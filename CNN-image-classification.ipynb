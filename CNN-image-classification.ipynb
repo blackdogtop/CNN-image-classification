{
  "nbformat": 4,
  "nbformat_minor": 0,
  "metadata": {
    "kernelspec": {
      "name": "python3",
      "display_name": "Python 3"
    },
    "language_info": {
      "codemirror_mode": {
        "name": "ipython",
        "version": 3
      },
      "file_extension": ".py",
      "mimetype": "text/x-python",
      "name": "python",
      "nbconvert_exporter": "python",
      "pygments_lexer": "ipython3",
      "version": "3.6.1"
    },
    "colab": {
      "name": "COMP5623_CW1_Starter.ipynb",
      "provenance": [],
      "collapsed_sections": [],
      "machine_shape": "hm"
    },
    "accelerator": "GPU"
  },
  "cells": [
    {
      "cell_type": "markdown",
      "metadata": {
        "id": "IdnsT8VYCSYF",
        "colab_type": "text"
      },
      "source": [
        "## COMP5623 Coursework on Image Classification with Convolutional Neural Networks \n"
      ]
    },
    {
      "cell_type": "markdown",
      "metadata": {
        "id": "Z2dF35VrRhyE",
        "colab_type": "text"
      },
      "source": [
        "###Starter code"
      ]
    },
    {
      "cell_type": "code",
      "metadata": {
        "id": "eKS20wjsCSYI",
        "colab_type": "code",
        "colab": {}
      },
      "source": [
        "import torch\n",
        "import torchvision\n",
        "import torch.optim as optim\n",
        "import torch.nn as nn\n",
        "import torchvision.transforms as transforms\n",
        "from  torch.utils.data import Dataset\n",
        "\n",
        "from sklearn.metrics import confusion_matrix\n",
        "from skimage import io, transform\n",
        "\n",
        "import matplotlib.pyplot as plt\n",
        "from tqdm import tqdm\n",
        "from PIL import Image\n",
        "import pandas as pd\n",
        "import numpy as np\n",
        "import csv\n",
        "import os\n",
        "import math\n",
        "import cv2\n",
        "\n",
        "import torch.nn.functional\n",
        "import keras\n",
        "import tensorflow as tf\n",
        "import errno\n",
        "import shutil\n",
        "from keras import backend as K"
      ],
      "execution_count": 0,
      "outputs": []
    },
    {
      "cell_type": "markdown",
      "metadata": {
        "id": "IpRGGlofCSYM",
        "colab_type": "text"
      },
      "source": [
        "### Part I\n",
        "\n",
        "The first part of the assignment is to build a CNN and train it on a subset of the ImageNet dataset. We will first create a dataframe with all the references to the images and their labels.\n",
        "\n",
        "To download the images into your work environment, clone into a git respository containing the images."
      ]
    },
    {
      "cell_type": "code",
      "metadata": {
        "id": "EqhQboSCCSYN",
        "colab_type": "code",
        "outputId": "c5338592-0fe5-4d69-e277-fe1e594c23d0",
        "colab": {
          "base_uri": "https://localhost:8080/",
          "height": 34
        }
      },
      "source": [
        "! git clone https://github.com/MohammedAlghamdi/imagenet10.git"
      ],
      "execution_count": 0,
      "outputs": [
        {
          "output_type": "stream",
          "text": [
            "fatal: destination path 'imagenet10' already exists and is not an empty directory.\n"
          ],
          "name": "stdout"
        }
      ]
    },
    {
      "cell_type": "markdown",
      "metadata": {
        "id": "8edZnYShg7M1",
        "colab_type": "text"
      },
      "source": [
        "Check that the repository is there:"
      ]
    },
    {
      "cell_type": "code",
      "metadata": {
        "id": "i2RIZGHaCVAC",
        "colab_type": "code",
        "outputId": "6239c607-85c8-491a-b876-f976ea4efb4a",
        "colab": {
          "base_uri": "https://localhost:8080/",
          "height": 34
        }
      },
      "source": [
        "! ls"
      ],
      "execution_count": 0,
      "outputs": [
        {
          "output_type": "stream",
          "text": [
            "imagenet10  sample_data\n"
          ],
          "name": "stdout"
        }
      ]
    },
    {
      "cell_type": "code",
      "metadata": {
        "id": "47tv-wIQCTcS",
        "colab_type": "code",
        "colab": {}
      },
      "source": [
        "root_dir = \"imagenet10/train_set/\"\n",
        "class_names = [\n",
        "  \"baboon\",\n",
        "  \"banana\",\n",
        "  \"canoe\",\n",
        "  \"cat\",\n",
        "  \"desk\",\n",
        "  \"drill\",\n",
        "  \"dumbbell\",\n",
        "  \"football\",\n",
        "  \"mug\",\n",
        "  \"orange\",\n",
        "]"
      ],
      "execution_count": 0,
      "outputs": []
    },
    {
      "cell_type": "markdown",
      "metadata": {
        "id": "L6oMdWl5CSYR",
        "colab_type": "text"
      },
      "source": [
        "A helper function for reading in images and assigning labels."
      ]
    },
    {
      "cell_type": "code",
      "metadata": {
        "id": "tQfcD3jyCSYT",
        "colab_type": "code",
        "colab": {}
      },
      "source": [
        "#获取文件路径以及标签\n",
        "def get_meta(root_dir, dirs):\n",
        "    \"\"\" Fetches the meta data for all the images and assigns labels.\n",
        "    \"\"\"\n",
        "    paths, classes = [], []\n",
        "    for i, dir_ in enumerate(dirs):\n",
        "        for entry in os.scandir(root_dir + dir_): #遍历目录\n",
        "            if (entry.is_file()):\n",
        "                paths.append(entry.path)\n",
        "                classes.append(i)\n",
        "                \n",
        "    return paths, classes"
      ],
      "execution_count": 0,
      "outputs": []
    },
    {
      "cell_type": "markdown",
      "metadata": {
        "id": "0J967KW0CSYX",
        "colab_type": "text"
      },
      "source": [
        "Now we create a dataframe using all the data."
      ]
    },
    {
      "cell_type": "code",
      "metadata": {
        "id": "8gDPs1NCCSYY",
        "colab_type": "code",
        "colab": {}
      },
      "source": [
        "# Benign images we will assign class 0, and malignant as 1\n",
        "paths, classes = get_meta(root_dir, class_names)\n",
        "\n",
        "data = {\n",
        "    'path': paths,\n",
        "    'class': classes\n",
        "}\n",
        "\n",
        "data_df = pd.DataFrame(data, columns=['path', 'class'])\n",
        "data_df = data_df.sample(frac=1).reset_index(drop=True) # Shuffles the data"
      ],
      "execution_count": 0,
      "outputs": []
    },
    {
      "cell_type": "markdown",
      "metadata": {
        "id": "jRUDj3WihItY",
        "colab_type": "text"
      },
      "source": [
        "View some sample data."
      ]
    },
    {
      "cell_type": "code",
      "metadata": {
        "id": "mK2GPzfVCSYc",
        "colab_type": "code",
        "outputId": "bb388a57-3de4-4293-8195-a45e38b1f1b2",
        "colab": {
          "base_uri": "https://localhost:8080/",
          "height": 221
        }
      },
      "source": [
        "print(\"Found\", len(data_df), \"images.\")\n",
        "data_df.head()"
      ],
      "execution_count": 0,
      "outputs": [
        {
          "output_type": "stream",
          "text": [
            "Found 9000 images.\n"
          ],
          "name": "stdout"
        },
        {
          "output_type": "execute_result",
          "data": {
            "text/html": [
              "<div>\n",
              "<style scoped>\n",
              "    .dataframe tbody tr th:only-of-type {\n",
              "        vertical-align: middle;\n",
              "    }\n",
              "\n",
              "    .dataframe tbody tr th {\n",
              "        vertical-align: top;\n",
              "    }\n",
              "\n",
              "    .dataframe thead th {\n",
              "        text-align: right;\n",
              "    }\n",
              "</style>\n",
              "<table border=\"1\" class=\"dataframe\">\n",
              "  <thead>\n",
              "    <tr style=\"text-align: right;\">\n",
              "      <th></th>\n",
              "      <th>path</th>\n",
              "      <th>class</th>\n",
              "    </tr>\n",
              "  </thead>\n",
              "  <tbody>\n",
              "    <tr>\n",
              "      <th>0</th>\n",
              "      <td>imagenet10/train_set/dumbbell/n03255030_1631.JPEG</td>\n",
              "      <td>6</td>\n",
              "    </tr>\n",
              "    <tr>\n",
              "      <th>1</th>\n",
              "      <td>imagenet10/train_set/mug/n03797390_8747.JPEG</td>\n",
              "      <td>8</td>\n",
              "    </tr>\n",
              "    <tr>\n",
              "      <th>2</th>\n",
              "      <td>imagenet10/train_set/baboon/n02486410_4008.JPEG</td>\n",
              "      <td>0</td>\n",
              "    </tr>\n",
              "    <tr>\n",
              "      <th>3</th>\n",
              "      <td>imagenet10/train_set/football/n04254680_388.JPEG</td>\n",
              "      <td>7</td>\n",
              "    </tr>\n",
              "    <tr>\n",
              "      <th>4</th>\n",
              "      <td>imagenet10/train_set/dumbbell/n03255030_6128.JPEG</td>\n",
              "      <td>6</td>\n",
              "    </tr>\n",
              "  </tbody>\n",
              "</table>\n",
              "</div>"
            ],
            "text/plain": [
              "                                                path  class\n",
              "0  imagenet10/train_set/dumbbell/n03255030_1631.JPEG      6\n",
              "1       imagenet10/train_set/mug/n03797390_8747.JPEG      8\n",
              "2    imagenet10/train_set/baboon/n02486410_4008.JPEG      0\n",
              "3   imagenet10/train_set/football/n04254680_388.JPEG      7\n",
              "4  imagenet10/train_set/dumbbell/n03255030_6128.JPEG      6"
            ]
          },
          "metadata": {
            "tags": []
          },
          "execution_count": 430
        }
      ]
    },
    {
      "cell_type": "markdown",
      "metadata": {
        "id": "Ai3uvziWCSYh",
        "colab_type": "text"
      },
      "source": [
        "Now we will create the Dataset class."
      ]
    },
    {
      "cell_type": "code",
      "metadata": {
        "id": "EyUb-rzQCSYi",
        "colab_type": "code",
        "colab": {}
      },
      "source": [
        "class ImageNet10(Dataset):\n",
        "    \"\"\" ImageNet10 dataset. \"\"\"\n",
        "\n",
        "    def __init__(self, df, transform=None):\n",
        "        \"\"\"\n",
        "        Args:\n",
        "            1.image_dir (string): Directory with all the images\n",
        "            2.df (DataFrame object): Dataframe containing the images, paths and classes\n",
        "            3.transform (callable, optional): Optional transform to be appliedon a sample.\n",
        "        \"\"\"\n",
        "        self.df = df\n",
        "        self.transform = transform\n",
        "\n",
        "    def __len__(self):\n",
        "        return len(self.df)\n",
        "\n",
        "    def __getitem__(self, index):\n",
        "        # Load image from path and get label\n",
        "        x = Image.open(self.df['path'][index])\n",
        "        try:\n",
        "          x = x.convert('RGB') # To deal with some grayscale images in the data\n",
        "        except:\n",
        "          pass\n",
        "        y = torch.tensor(int(self.df['class'][index]))\n",
        "\n",
        "        if self.transform:\n",
        "            x = self.transform(x)\n",
        "\n",
        "        return x, y"
      ],
      "execution_count": 0,
      "outputs": []
    },
    {
      "cell_type": "markdown",
      "metadata": {
        "id": "vqtRjBozCSYk",
        "colab_type": "text"
      },
      "source": [
        "Compute what we should normalise the dataset to."
      ]
    },
    {
      "cell_type": "code",
      "metadata": {
        "id": "pPqfMPuZCSYl",
        "colab_type": "code",
        "colab": {}
      },
      "source": [
        "def compute_img_mean_std(image_paths):\n",
        "    \"\"\"\n",
        "        计算均值和方差\n",
        "        Author: @xinruizhuang. Computing the mean and std of three channel on the whole dataset,\n",
        "        first we should normalize the image from 0-255 to 0-1\n",
        "    \"\"\"\n",
        "\n",
        "    img_h, img_w = 224, 224\n",
        "    imgs = []\n",
        "    means, stdevs = [], []\n",
        "\n",
        "    for i in tqdm(range(len(image_paths))):\n",
        "        img = cv2.imread(image_paths[i])\n",
        "        img = cv2.resize(img, (img_h, img_w))\n",
        "        imgs.append(img)\n",
        "\n",
        "    imgs = np.stack(imgs, axis=3) # 增加维度 https://blog.csdn.net/qq_17550379/article/details/78934529\n",
        "    print(imgs.shape)\n",
        "\n",
        "    imgs = imgs.astype(np.float32) / 255.\n",
        "\n",
        "    for i in range(3):\n",
        "        pixels = imgs[:, :, i, :].ravel()  # resize to one row\n",
        "        means.append(np.mean(pixels))\n",
        "        stdevs.append(np.std(pixels))\n",
        "\n",
        "    means.reverse()  # BGR --> RGB\n",
        "    stdevs.reverse()\n",
        "\n",
        "    print(\"normMean = {}\".format(means)) #均值\n",
        "    print(\"normStd = {}\".format(stdevs)) #方差\n",
        "    return means, stdevs\n"
      ],
      "execution_count": 0,
      "outputs": []
    },
    {
      "cell_type": "code",
      "metadata": {
        "id": "-_1KSGUe4sEW",
        "colab_type": "code",
        "outputId": "1f52c6e4-eec8-49e8-e1b1-61a5a9dc7aa8",
        "colab": {
          "base_uri": "https://localhost:8080/",
          "height": 85
        }
      },
      "source": [
        "norm_mean, norm_std = compute_img_mean_std(paths)"
      ],
      "execution_count": 0,
      "outputs": [
        {
          "output_type": "stream",
          "text": [
            "100%|██████████| 9000/9000 [00:45<00:00, 198.65it/s]\n"
          ],
          "name": "stderr"
        },
        {
          "output_type": "stream",
          "text": [
            "(224, 224, 3, 9000)\n",
            "normMean = [0.5228359, 0.4798834, 0.40605333]\n",
            "normStd = [0.29770732, 0.28883994, 0.31178218]\n"
          ],
          "name": "stdout"
        }
      ]
    },
    {
      "cell_type": "markdown",
      "metadata": {
        "id": "wxnsxNHgFClW",
        "colab_type": "text"
      },
      "source": [
        "###Dataset"
      ]
    },
    {
      "cell_type": "markdown",
      "metadata": {
        "id": "RqrG3FCUCSYo",
        "colab_type": "text"
      },
      "source": [
        "Now let's create the transforms to normalise and turn our data into tensors."
      ]
    },
    {
      "cell_type": "code",
      "metadata": {
        "id": "OVeZpgM-CSYq",
        "colab_type": "code",
        "colab": {}
      },
      "source": [
        "#图像预处理   https://blog.csdn.net/hmh2_yy/article/details/85099523\n",
        "data_transform = transforms.Compose([\n",
        "        transforms.Resize(256), #256\n",
        "        transforms.CenterCrop(256), #生成一个CenterCrop类的对象,256*256\n",
        "        transforms.ToTensor(),\n",
        "        transforms.Normalize(norm_mean, norm_std),\n",
        "    ])"
      ],
      "execution_count": 0,
      "outputs": []
    },
    {
      "cell_type": "markdown",
      "metadata": {
        "id": "cAPzCfr2CSYt",
        "colab_type": "text"
      },
      "source": [
        "Let's split the data into train and test sets and instantiate our new ISIC_Dataset objects."
      ]
    },
    {
      "cell_type": "code",
      "metadata": {
        "id": "POCexxXjCSYu",
        "colab_type": "code",
        "colab": {}
      },
      "source": [
        "train_split = 0.70 # Defines the ratio of train/valid/test data.\n",
        "valid_split = 0.10\n",
        "\n",
        "train_size = int(len(data_df)*train_split)\n",
        "valid_size = int(len(data_df)*valid_split)\n",
        "\n",
        "#ImageNet_Subset\n",
        "ins_dataset_train = ImageNet10( #6300\n",
        "    df=data_df[:train_size],\n",
        "    transform=data_transform,\n",
        ")\n",
        "\n",
        "ins_dataset_valid = ImageNet10(\n",
        "    df=data_df[train_size:(train_size + valid_size)].reset_index(drop=True),\n",
        "    transform=data_transform,\n",
        ")\n",
        "\n",
        "ins_dataset_test = ImageNet10(\n",
        "    df=data_df[(train_size + valid_size):].reset_index(drop=True),\n",
        "    transform=data_transform,\n",
        ")"
      ],
      "execution_count": 0,
      "outputs": []
    },
    {
      "cell_type": "markdown",
      "metadata": {
        "id": "PzVfNzvmhTGJ",
        "colab_type": "text"
      },
      "source": [
        "You will need to create DataLoaders for the datasets."
      ]
    },
    {
      "cell_type": "code",
      "metadata": {
        "id": "_womtSmIhgSj",
        "colab_type": "code",
        "colab": {}
      },
      "source": [
        "train_loader = torch.utils.data.DataLoader(\n",
        "    dataset = ins_dataset_train,\n",
        "    batch_size = 32, #一次迭代所使用的样本量\n",
        "    shuffle = True,\n",
        "    num_workers = 2,\n",
        ")\n",
        "\n",
        "validation_loader = torch.utils.data.DataLoader(\n",
        "    dataset = ins_dataset_valid,\n",
        "    batch_size = 32,\n",
        "    shuffle = False,\n",
        "    num_workers = 2,\n",
        ")\n",
        "\n",
        "test_loader = torch.utils.data.DataLoader(\n",
        "    dataset = ins_dataset_test,\n",
        "    batch_size = 64,# Forward pass only so batch size can be larger\n",
        "    shuffle = False,\n",
        "    num_workers = 2,\n",
        ")\n",
        "classes = np.arange(0, 10)"
      ],
      "execution_count": 0,
      "outputs": []
    },
    {
      "cell_type": "markdown",
      "metadata": {
        "id": "nrxY3pKaJjh_",
        "colab_type": "text"
      },
      "source": [
        "###Nerual Network"
      ]
    },
    {
      "cell_type": "markdown",
      "metadata": {
        "id": "0te8lqrfO7Nf",
        "colab_type": "text"
      },
      "source": [
        "this is test code for question 1. Just change and run the code for doing question 1."
      ]
    },
    {
      "cell_type": "code",
      "metadata": {
        "id": "vuy2hHCkO6Pi",
        "colab_type": "code",
        "outputId": "1f4acf05-4de6-4288-bb5b-7323e3cd8b43",
        "colab": {
          "base_uri": "https://localhost:8080/",
          "height": 34
        }
      },
      "source": [
        "# # Convolutional neural network\n",
        "# class ConvNet(nn.Module):\n",
        "    '''this is test code for question 1. Just change and run the code for doing question 1.'''\n",
        "#     def __init__(self, num_classes=10):\n",
        "#         super(ConvNet, self).__init__()\n",
        "  \n",
        "#         self.conv1 = nn.Conv2d(3, 16, kernel_size = 3, stride = 1)\n",
        "#         self.pool = nn.MaxPool2d(6,2)\n",
        "\n",
        "#         self.conv2 = torch.nn.Sequential(\n",
        "#             nn.Conv2d(in_channels = 16, out_channels = 24, kernel_size=4, stride=1),\n",
        "#             nn.ReLU(),\n",
        "#             nn.MaxPool2d(kernel_size=6, stride=2),\n",
        "#             torch.nn.Dropout(0.3) \n",
        "#         )\n",
        "#         self.conv3 = torch.nn.Sequential(\n",
        "#             nn.Conv2d(in_channels = 24, out_channels = 32, kernel_size=4, stride=1),\n",
        "#             nn.ReLU(),\n",
        "#             nn.MaxPool2d(kernel_size=6, stride=2),\n",
        "#             torch.nn.Dropout(0.3)\n",
        "#         )\n",
        "#         self.conv4 = torch.nn.Sequential(\n",
        "#             nn.Conv2d(in_channels = 32, out_channels = 64, kernel_size=4, stride=1),\n",
        "#             nn.ReLU(),\n",
        "#             nn.MaxPool2d(kernel_size=6, stride=2),\n",
        "#             torch.nn.Dropout(0.3)\n",
        "#         )\n",
        "\n",
        "#         self.fc1 = nn.Linear(5184, 512) \n",
        "#         self.fc2 = nn.Linear(512, num_classes)\n",
        "        \n",
        "#     def forward(self, x):\n",
        "#         x = self.pool(torch.nn.functional.relu(self.conv1(x)))\n",
        "#         x = torch.nn.functional.dropout(x, p=0.3)\n",
        "#         x = self.conv2(x)\n",
        "#         x = self.conv3(x)\n",
        "#         x = self.conv4(x)\n",
        "#         x = x.view(x.size(0),-1)\n",
        "#         x = self.fc1(x)\n",
        "#         out = self.fc2(x)\n",
        "\n",
        "#         return out"
      ],
      "execution_count": 0,
      "outputs": [
        {
          "output_type": "execute_result",
          "data": {
            "text/plain": [
              "'this is test code for question 1. Just change and run the code for doing question 1.'"
            ]
          },
          "metadata": {
            "tags": []
          },
          "execution_count": 437
        }
      ]
    },
    {
      "cell_type": "code",
      "metadata": {
        "id": "3B5x07o3CSY7",
        "colab_type": "code",
        "colab": {}
      },
      "source": [
        "# Convolutional neural network\n",
        "class ConvNet(nn.Module):\n",
        "    \n",
        "    def __init__(self, num_classes=10):\n",
        "        super(ConvNet, self).__init__()\n",
        "  \n",
        "        self.conv1 = torch.nn.Sequential(\n",
        "            nn.Conv2d(in_channels = 3, out_channels = 16, kernel_size=3, stride=1),\n",
        "            nn.ReLU(),\n",
        "            nn.MaxPool2d(kernel_size=2, stride=2),\n",
        "            torch.nn.Dropout(0.3)\n",
        "        )\n",
        "\n",
        "        self.conv2 = torch.nn.Sequential(#容器,Sequential模块的初始换函数没有异常处理\n",
        "            nn.Conv2d(in_channels = 16, out_channels = 24, kernel_size=3, stride=1),#stride移动步长 https://blog.csdn.net/weicao1990/article/details/80282837\n",
        "            nn.ReLU(),\n",
        "            nn.MaxPool2d(kernel_size=2, stride=2),\n",
        "            torch.nn.Dropout(0.3) #Dropout helps the neural network to avoid overfitting to noise in the training data.\n",
        "        )\n",
        "        self.conv3 = torch.nn.Sequential(\n",
        "            nn.Conv2d(in_channels = 24, out_channels = 32, kernel_size=3, stride=1),\n",
        "            nn.ReLU(),\n",
        "            nn.MaxPool2d(kernel_size=2, stride=2),\n",
        "            torch.nn.Dropout(0.3)\n",
        "        )\n",
        "        self.conv4 = torch.nn.Sequential(\n",
        "            nn.Conv2d(in_channels = 32, out_channels = 40, kernel_size=3, stride=1),\n",
        "            nn.ReLU(),\n",
        "            nn.MaxPool2d(kernel_size=2, stride=2),\n",
        "            torch.nn.Dropout(0.3)\n",
        "        )\n",
        "        self.conv5 = torch.nn.Sequential(\n",
        "            nn.Conv2d(in_channels = 40, out_channels = 48, kernel_size=3, stride=1),\n",
        "            nn.ReLU(),\n",
        "            nn.MaxPool2d(kernel_size=2, stride=2),\n",
        "            torch.nn.Dropout(0.3)\n",
        "        )\n",
        "        self.conv6 = torch.nn.Sequential(\n",
        "            nn.Conv2d(in_channels = 48, out_channels = 56, kernel_size=3, stride=1),\n",
        "            nn.ReLU(),\n",
        "            nn.MaxPool2d(kernel_size=2, stride=2),\n",
        "            torch.nn.Dropout(0.3)\n",
        "        )\n",
        "\n",
        "\n",
        "        # W' = (W - F + 2P) / S + 1   \n",
        "        self.fc1 = nn.Linear(224, 112) #full-connected 全连接层的每一个结点都与上一层的所有结点相连，用来把前边提取到的特征综合起来\n",
        "        self.fc2 = nn.Linear(112, num_classes)\n",
        "        # self.final = nn.Softmax(dim=1) #将多个神经元的输出映射到（0,1）区间 https://www.zhihu.com/question/23765351/answer/240869755\n",
        "        \n",
        "    def forward(self, x):\n",
        "        x = self.conv1(x)\n",
        "        x = self.conv2(x)\n",
        "        x = self.conv3(x)\n",
        "        x = self.conv4(x)\n",
        "        x = self.conv5(x)\n",
        "        x = self.conv6(x)\n",
        "        x = x.view(x.size(0),-1) #将卷积的输出拉伸为一行, x.size() -- batch size, -1 -- 自适应 https://www.mediaat.cn/news/show-668.html\n",
        "        x = self.fc1(x)\n",
        "        out = self.fc2(x)\n",
        "\n",
        "        return out"
      ],
      "execution_count": 0,
      "outputs": []
    },
    {
      "cell_type": "code",
      "metadata": {
        "id": "f0dTiS_10mTk",
        "colab_type": "code",
        "colab": {}
      },
      "source": [
        "torch.manual_seed(0)\n",
        "torch.cuda.manual_seed(0)"
      ],
      "execution_count": 0,
      "outputs": []
    },
    {
      "cell_type": "code",
      "metadata": {
        "id": "DWEDurLyzwZD",
        "colab_type": "code",
        "outputId": "945defaa-ea60-4f82-fe81-3842a239d60b",
        "colab": {
          "base_uri": "https://localhost:8080/",
          "height": 34
        }
      },
      "source": [
        "# Device configuration - defaults to CPU unless GPU is available on device\n",
        "device = torch.device('cuda:0' if torch.cuda.is_available() else 'cpu') \n",
        "device"
      ],
      "execution_count": 0,
      "outputs": [
        {
          "output_type": "execute_result",
          "data": {
            "text/plain": [
              "device(type='cuda', index=0)"
            ]
          },
          "metadata": {
            "tags": []
          },
          "execution_count": 440
        }
      ]
    },
    {
      "cell_type": "code",
      "metadata": {
        "id": "TiBzR4JC0tRL",
        "colab_type": "code",
        "outputId": "2f66440b-f328-4e6b-83d5-60c5321bbc9a",
        "colab": {
          "base_uri": "https://localhost:8080/",
          "height": 697
        }
      },
      "source": [
        "model_gpu = ConvNet().to(device)\n",
        "model_gpu"
      ],
      "execution_count": 0,
      "outputs": [
        {
          "output_type": "execute_result",
          "data": {
            "text/plain": [
              "ConvNet(\n",
              "  (conv1): Sequential(\n",
              "    (0): Conv2d(3, 16, kernel_size=(3, 3), stride=(1, 1))\n",
              "    (1): ReLU()\n",
              "    (2): MaxPool2d(kernel_size=2, stride=2, padding=0, dilation=1, ceil_mode=False)\n",
              "    (3): Dropout(p=0.3, inplace=False)\n",
              "  )\n",
              "  (conv2): Sequential(\n",
              "    (0): Conv2d(16, 24, kernel_size=(3, 3), stride=(1, 1))\n",
              "    (1): ReLU()\n",
              "    (2): MaxPool2d(kernel_size=2, stride=2, padding=0, dilation=1, ceil_mode=False)\n",
              "    (3): Dropout(p=0.3, inplace=False)\n",
              "  )\n",
              "  (conv3): Sequential(\n",
              "    (0): Conv2d(24, 32, kernel_size=(3, 3), stride=(1, 1))\n",
              "    (1): ReLU()\n",
              "    (2): MaxPool2d(kernel_size=2, stride=2, padding=0, dilation=1, ceil_mode=False)\n",
              "    (3): Dropout(p=0.3, inplace=False)\n",
              "  )\n",
              "  (conv4): Sequential(\n",
              "    (0): Conv2d(32, 40, kernel_size=(3, 3), stride=(1, 1))\n",
              "    (1): ReLU()\n",
              "    (2): MaxPool2d(kernel_size=2, stride=2, padding=0, dilation=1, ceil_mode=False)\n",
              "    (3): Dropout(p=0.3, inplace=False)\n",
              "  )\n",
              "  (conv5): Sequential(\n",
              "    (0): Conv2d(40, 48, kernel_size=(3, 3), stride=(1, 1))\n",
              "    (1): ReLU()\n",
              "    (2): MaxPool2d(kernel_size=2, stride=2, padding=0, dilation=1, ceil_mode=False)\n",
              "    (3): Dropout(p=0.3, inplace=False)\n",
              "  )\n",
              "  (conv6): Sequential(\n",
              "    (0): Conv2d(48, 56, kernel_size=(3, 3), stride=(1, 1))\n",
              "    (1): ReLU()\n",
              "    (2): MaxPool2d(kernel_size=2, stride=2, padding=0, dilation=1, ceil_mode=False)\n",
              "    (3): Dropout(p=0.3, inplace=False)\n",
              "  )\n",
              "  (fc1): Linear(in_features=224, out_features=112, bias=True)\n",
              "  (fc2): Linear(in_features=112, out_features=10, bias=True)\n",
              ")"
            ]
          },
          "metadata": {
            "tags": []
          },
          "execution_count": 441
        }
      ]
    },
    {
      "cell_type": "code",
      "metadata": {
        "id": "4EM1YzcQsQjA",
        "colab_type": "code",
        "colab": {}
      },
      "source": [
        "criterion = nn.CrossEntropyLoss()\n",
        "# Stochastic gradient descent\n",
        " #v = mu * v - learning_rate * dw\n",
        " #w = w + v\n",
        " #lr = 0.001\n",
        "optimizer = optim.SGD(model_gpu.parameters(), lr=0.001, momentum=0.9) #加速学习，0.9 - 10倍SDG算法"
      ],
      "execution_count": 0,
      "outputs": []
    },
    {
      "cell_type": "markdown",
      "metadata": {
        "id": "gmWftTCHxKbb",
        "colab_type": "text"
      },
      "source": [
        "###Visualise filter before training"
      ]
    },
    {
      "cell_type": "code",
      "metadata": {
        "id": "S5FEXRgtxJN1",
        "colab_type": "code",
        "colab": {}
      },
      "source": [
        "def prime_powers(n):\n",
        "    \"\"\"\n",
        "    Compute the factors of a positive integer\n",
        "    Algorithm from https://rosettacode.org/wiki/Factors_of_an_integer#Python\n",
        "    :param n: int\n",
        "    :return: set\n",
        "    \"\"\"\n",
        "    factors = set()\n",
        "    for x in range(1, int(math.sqrt(n)) + 1):\n",
        "        if n % x == 0:\n",
        "            factors.add(int(x))\n",
        "            factors.add(int(n // x))\n",
        "    return sorted(factors) #排序"
      ],
      "execution_count": 0,
      "outputs": []
    },
    {
      "cell_type": "code",
      "metadata": {
        "id": "s14BiaYfxZ8N",
        "colab_type": "code",
        "colab": {}
      },
      "source": [
        "def get_grid_dim(x):\n",
        "    \"\"\"\n",
        "    Transforms x into product of two integers\n",
        "    :param x: int\n",
        "    :return: two ints\n",
        "    \"\"\"\n",
        "    factors = prime_powers(x)\n",
        "    if len(factors) % 2 == 0:\n",
        "        i = int(len(factors) / 2)\n",
        "        return factors[i], factors[i - 1]\n",
        "\n",
        "    i = len(factors) // 2\n",
        "    return factors[i], factors[i]"
      ],
      "execution_count": 0,
      "outputs": []
    },
    {
      "cell_type": "code",
      "metadata": {
        "id": "qezxzrxVxii1",
        "colab_type": "code",
        "outputId": "6e328a00-0dfe-4b9e-f259-3eb090d08728",
        "colab": {
          "base_uri": "https://localhost:8080/",
          "height": 265
        }
      },
      "source": [
        "def visualise_filter_R_before(conv):\n",
        "  filter = conv.weight.data.cpu().numpy()\n",
        "  out_channels = filter.shape[0]\n",
        "  rows = np.min(get_grid_dim(out_channels))\n",
        "  columns = np.max(get_grid_dim(out_channels))\n",
        "  length = filter.shape[1]\n",
        "  width = filter.shape[2]\n",
        "  channels  = filter.shape[3]\n",
        "\n",
        "  for i in range(1, out_channels + 1):\n",
        "    plt.subplot(rows, columns, i)\n",
        "    filter_im = np.zeros((length, width, channels))\n",
        "    filter[i-1] = (filter[i-1] - np.mean(filter[i-1])) / np.std(filter[i-1]) #符合正态分布\n",
        "    filter[i-1] = np.minimum(1, np.maximum(0, (filter[i-1] + 0.5)))\n",
        "    filter[i-1] = filter[i-1].transpose(1, 2, 0)#https://www.cnblogs.com/caizhou520/p/11227986.html\n",
        "\n",
        "    filter_im = filter[i-1]\n",
        "    plt.imshow(filter_im[:,:,0], cmap='gray')#cmap: 颜色图谱（colormap), 默认绘制为RGB(A)颜色空间 #https://www.cnblogs.com/denny402/p/5122594.html\n",
        "\n",
        "visualise_filter_R_before(model_gpu.conv1)"
      ],
      "execution_count": 0,
      "outputs": [
        {
          "output_type": "display_data",
          "data": {
            "image/png": "[encoded data removed]",
            "text/plain": [
              "<Figure size 432x288 with 16 Axes>"
            ]
          },
          "metadata": {
            "tags": []
          }
        }
      ]
    },
    {
      "cell_type": "code",
      "metadata": {
        "id": "pl_g93VVyF0-",
        "colab_type": "code",
        "outputId": "50ec4c5f-c30e-43a8-d33d-e095ae642fa6",
        "colab": {
          "base_uri": "https://localhost:8080/",
          "height": 265
        }
      },
      "source": [
        "def visualise_filter_G_before(conv):\n",
        "  filter = conv.weight.data.cpu().numpy()\n",
        "  out_channels = filter.shape[0]\n",
        "  rows = np.min(get_grid_dim(out_channels))\n",
        "  columns = np.max(get_grid_dim(out_channels))\n",
        "  length = filter.shape[1]\n",
        "  width = filter.shape[2]\n",
        "  channels  = filter.shape[3]\n",
        "\n",
        "  for i in range(1, out_channels + 1):\n",
        "    plt.subplot(rows, columns, i)\n",
        "    filter_im = np.zeros((length, width, channels))\n",
        "    filter[i-1] = (filter[i-1] - np.mean(filter[i-1])) / np.std(filter[i-1])\n",
        "    filter[i-1] = np.minimum(1, np.maximum(0, (filter[i-1] + 0.5)))\n",
        "    filter[i-1] = filter[i-1].transpose(1, 2, 0)\n",
        "\n",
        "    filter_im = filter[i-1]\n",
        "    plt.imshow(filter_im[:,:,1], cmap='gray')\n",
        "\n",
        "visualise_filter_G_before(model_gpu.conv1)"
      ],
      "execution_count": 0,
      "outputs": [
        {
          "output_type": "display_data",
          "data": {
            "image/png": "[encoded data removed]",
            "text/plain": [
              "<Figure size 432x288 with 16 Axes>"
            ]
          },
          "metadata": {
            "tags": []
          }
        }
      ]
    },
    {
      "cell_type": "code",
      "metadata": {
        "id": "8-iPznTmyZDN",
        "colab_type": "code",
        "outputId": "cabae12f-02f2-4b88-a7d8-54594e0c02d3",
        "colab": {
          "base_uri": "https://localhost:8080/",
          "height": 265
        }
      },
      "source": [
        "def visualise_filter_B_before(conv):\n",
        "  filter = conv.weight.data.cpu().numpy()\n",
        "  out_channels = filter.shape[0]\n",
        "  rows = np.min(get_grid_dim(out_channels))\n",
        "  columns = np.max(get_grid_dim(out_channels))\n",
        "  length = filter.shape[1]\n",
        "  width = filter.shape[2]\n",
        "  channels  = filter.shape[3]\n",
        "\n",
        "  for i in range(1, out_channels + 1):\n",
        "    plt.subplot(rows, columns, i)\n",
        "    filter_im = np.zeros((length, width, channels))\n",
        "    filter[i-1] = (filter[i-1] - np.mean(filter[i-1])) / np.std(filter[i-1])\n",
        "    filter[i-1] = np.minimum(1, np.maximum(0, (filter[i-1] + 0.5)))\n",
        "    filter[i-1] = filter[i-1].transpose(1, 2, 0)\n",
        "\n",
        "    filter_im = filter[i-1]\n",
        "    plt.imshow(filter_im[:,:,2], cmap='gray')\n",
        "\n",
        "visualise_filter_B_before(model_gpu.conv1)"
      ],
      "execution_count": 0,
      "outputs": [
        {
          "output_type": "display_data",
          "data": {
            "image/png": "[encoded data removed]",
            "text/plain": [
              "<Figure size 432x288 with 16 Axes>"
            ]
          },
          "metadata": {
            "tags": []
          }
        }
      ]
    },
    {
      "cell_type": "markdown",
      "metadata": {
        "id": "8HqbgJyrQ291",
        "colab_type": "text"
      },
      "source": [
        "###Training"
      ]
    },
    {
      "cell_type": "code",
      "metadata": {
        "id": "I3AqzMozzjhr",
        "colab_type": "code",
        "colab": {}
      },
      "source": [
        "import timeit"
      ],
      "execution_count": 0,
      "outputs": []
    },
    {
      "cell_type": "code",
      "metadata": {
        "id": "74oo0Re96xsE",
        "colab_type": "code",
        "colab": {}
      },
      "source": [
        "loss_list = []\n",
        "acc_list = []\n",
        "\n",
        "correct_train = 0\n",
        "total_train = 0\n",
        "\n",
        "total_val = 0\n",
        "correct_val = 0\n",
        "loss_list_val = []\n",
        "acc_list_val = []\n",
        "\n",
        "def train_model_epochs(num_epochs):\n",
        "    \"\"\" Copy of function train_model_epochs but explicitly copying data to device during training. \n",
        "    \"\"\"\n",
        "    for epoch in range(num_epochs):\n",
        "\n",
        "        running_loss = 0.0\n",
        "        running_loss_val = 0.0\n",
        "        batch_loss = 0.0\n",
        "        length = len(train_loader)//10\n",
        "        for i, data in enumerate(train_loader, 0):\n",
        "            images, labels = data\n",
        "\n",
        "            # Explicitly specifies that data is to be copied onto the device!\n",
        "            images = images.to(device)  # <----------- And note it's NOT an in-place operation; original\n",
        "            labels = labels.to(device)  # <----------- variables still exist on CPU\n",
        "\n",
        "            # Zero the parameter gradients means to reset them from any previous values. By default, gradients accumulate!\n",
        "            optimizer.zero_grad()\n",
        "\n",
        "            # Passing inputs to the model calls the forward() function of the Module class, and the outputs value contains the return value of forward()\n",
        "            outputs = model_gpu(images)\n",
        "\n",
        "            # Compute the loss based on the true labels\n",
        "            loss = criterion(outputs, labels)\n",
        "\n",
        "            # Backpropagate the error with respect to the loss\n",
        "            loss.backward()\n",
        "\n",
        "            # Updates the parameters based on current gradients and update rule;\n",
        "            # in this case, defined by SGD()\n",
        "            optimizer.step()\n",
        "\n",
        "            global correct_train, total_train\n",
        "            _, predicted = torch.max(outputs.data, 1) #tensor格式, dim = 1:取每一行的最大值\n",
        "            total_train += labels.size(0)\n",
        "            correct_train += (predicted == labels).sum().item()\n",
        "\n",
        "            # Print our loss\n",
        "            running_loss += loss.item() \n",
        "            batch_loss += loss.item()\n",
        "\n",
        "            if i % length == length-1:    # print every length mini-batches\n",
        "                print('Epoch / Batch [%d / %d] - Loss: %.3f - Acc:%.3f' %\n",
        "                      (epoch + 1, i + 1, running_loss / length, (correct_train / total_train)))  \n",
        "                running_loss = 0.0\n",
        "                 \n",
        "            if i == len(train_loader)-1:\n",
        "                loss_list.append(batch_loss / len(train_loader))\n",
        "                acc_list.append(correct_train / total_train)\n",
        "                batch_loss = 0.0\n",
        "\n",
        "\n",
        "        with torch.no_grad(): #不需要计算梯度，也不会进行反向传播\n",
        "            for data_val in validation_loader:\n",
        "                images_val, labels_val = data_val\n",
        "\n",
        "                images_val = images_val.to(device) \n",
        "                labels_val = labels_val.to(device)\n",
        "\n",
        "                outputs_val = model_gpu(images_val)\n",
        "\n",
        "                loss_val = criterion(outputs_val, labels_val)\n",
        "                running_loss_val += loss_val.item() \n",
        "                \n",
        "                _, predicted = torch.max(outputs_val.data, 1) #tensor格式, dim = 1:取每一行的最大值\n",
        "                global total_val, correct_val\n",
        "                total_val += labels_val.size(0)\n",
        "                correct_val += (predicted == labels_val).sum().item()\n",
        "\n",
        "\n",
        "\n",
        "        print('- val_loss:%.3f - val_Acc:%.3f' % ((running_loss_val/len(validation_loader)), (correct_val / total_val)))\n",
        "        loss_list_val.append(running_loss_val/len(validation_loader))\n",
        "        acc_list_val.append(correct_val / total_val)\n",
        "        running_loss_val = 0"
      ],
      "execution_count": 0,
      "outputs": []
    },
    {
      "cell_type": "code",
      "metadata": {
        "id": "CH0oDEDEzScJ",
        "colab_type": "code",
        "colab": {}
      },
      "source": [
        "# train_model_epochs(10)"
      ],
      "execution_count": 0,
      "outputs": []
    },
    {
      "cell_type": "markdown",
      "metadata": {
        "id": "uev-kUK-y-uB",
        "colab_type": "text"
      },
      "source": [
        "###Visualise filter during halfway training"
      ]
    },
    {
      "cell_type": "code",
      "metadata": {
        "id": "92ydv8rDzFjJ",
        "colab_type": "code",
        "outputId": "0339a740-934b-4b24-ddf2-a5ebcc53657d",
        "colab": {
          "base_uri": "https://localhost:8080/",
          "height": 265
        }
      },
      "source": [
        "def visualise_filter_R_during(conv):\n",
        "  filter = conv.weight.data.cpu().numpy()\n",
        "  out_channels = filter.shape[0]\n",
        "  rows = np.min(get_grid_dim(out_channels))\n",
        "  columns = np.max(get_grid_dim(out_channels))\n",
        "  length = filter.shape[1]\n",
        "  width = filter.shape[2]\n",
        "  channels  = filter.shape[3]\n",
        "\n",
        "  for i in range(1, out_channels + 1):\n",
        "    plt.subplot(rows, columns, i)\n",
        "    filter_im = np.zeros((length, width, channels))\n",
        "    filter[i-1] = (filter[i-1] - np.mean(filter[i-1])) / np.std(filter[i-1])\n",
        "    filter[i-1] = np.minimum(1, np.maximum(0, (filter[i-1] + 0.5)))\n",
        "    filter[i-1] = filter[i-1].transpose(1, 2, 0)\n",
        "\n",
        "    filter_im = filter[i-1]\n",
        "    plt.imshow(filter_im[:,:,0], cmap='gray')\n",
        "\n",
        "visualise_filter_R_during(model_gpu.conv1)"
      ],
      "execution_count": 0,
      "outputs": [
        {
          "output_type": "display_data",
          "data": {
            "image/png": "[encoded data removed]",
            "text/plain": [
              "<Figure size 432x288 with 16 Axes>"
            ]
          },
          "metadata": {
            "tags": []
          }
        }
      ]
    },
    {
      "cell_type": "code",
      "metadata": {
        "id": "aW_uAoTNzFTg",
        "colab_type": "code",
        "outputId": "6bc4027d-7a04-403a-efca-3287de7d0dfe",
        "colab": {
          "base_uri": "https://localhost:8080/",
          "height": 265
        }
      },
      "source": [
        "def visualise_filter_G_during(conv):\n",
        "  filter = conv.weight.data.cpu().numpy()\n",
        "  out_channels = filter.shape[0]\n",
        "  rows = np.min(get_grid_dim(out_channels))\n",
        "  columns = np.max(get_grid_dim(out_channels))\n",
        "  length = filter.shape[1]\n",
        "  width = filter.shape[2]\n",
        "  channels  = filter.shape[3]\n",
        "\n",
        "  for i in range(1, out_channels + 1):\n",
        "    plt.subplot(rows, columns, i)\n",
        "    filter_im = np.zeros((length, width, channels))\n",
        "    filter[i-1] = (filter[i-1] - np.mean(filter[i-1])) / np.std(filter[i-1])\n",
        "    filter[i-1] = np.minimum(1, np.maximum(0, (filter[i-1] + 0.5)))\n",
        "    filter[i-1] = filter[i-1].transpose(1, 2, 0)\n",
        "\n",
        "    filter_im = filter[i-1]\n",
        "    plt.imshow(filter_im[:,:,1], cmap='gray')\n",
        "\n",
        "visualise_filter_G_during(model_gpu.conv1)"
      ],
      "execution_count": 0,
      "outputs": [
        {
          "output_type": "display_data",
          "data": {
            "image/png": "[encoded data removed]",
            "text/plain": [
              "<Figure size 432x288 with 16 Axes>"
            ]
          },
          "metadata": {
            "tags": []
          }
        }
      ]
    },
    {
      "cell_type": "code",
      "metadata": {
        "id": "DQpk4KbXzZDg",
        "colab_type": "code",
        "outputId": "b14a3a16-8ad9-4e70-8277-a4d7c855b46d",
        "colab": {
          "base_uri": "https://localhost:8080/",
          "height": 265
        }
      },
      "source": [
        "def visualise_filter_B_during(conv):\n",
        "  filter = conv.weight.data.cpu().numpy()\n",
        "  out_channels = filter.shape[0]\n",
        "  rows = np.min(get_grid_dim(out_channels))\n",
        "  columns = np.max(get_grid_dim(out_channels))\n",
        "  length = filter.shape[1]\n",
        "  width = filter.shape[2]\n",
        "  channels  = filter.shape[3]\n",
        "\n",
        "  for i in range(1, out_channels + 1):\n",
        "    plt.subplot(rows, columns, i)\n",
        "    filter_im = np.zeros((length, width, channels))\n",
        "    filter[i-1] = (filter[i-1] - np.mean(filter[i-1])) / np.std(filter[i-1])\n",
        "    filter[i-1] = np.minimum(1, np.maximum(0, (filter[i-1] + 0.5)))\n",
        "    filter[i-1] = filter[i-1].transpose(1, 2, 0)\n",
        "\n",
        "    filter_im = filter[i-1]\n",
        "    plt.imshow(filter_im[:,:,2], cmap='gray')\n",
        "\n",
        "visualise_filter_B_during(model_gpu.conv1)"
      ],
      "execution_count": 0,
      "outputs": [
        {
          "output_type": "display_data",
          "data": {
            "image/png": "[encoded data removed]",
            "text/plain": [
              "<Figure size 432x288 with 16 Axes>"
            ]
          },
          "metadata": {
            "tags": []
          }
        }
      ]
    },
    {
      "cell_type": "markdown",
      "metadata": {
        "id": "fWMS9GSqMscD",
        "colab_type": "text"
      },
      "source": [
        "###Training"
      ]
    },
    {
      "cell_type": "code",
      "metadata": {
        "id": "TfAhhnQy2ZHr",
        "colab_type": "code",
        "outputId": "6ab48b06-e3e6-46db-92d3-d62eab92cc92",
        "colab": {
          "base_uri": "https://localhost:8080/",
          "height": 1000
        }
      },
      "source": [
        "gpu_train_time = timeit.timeit(\n",
        "    \"train_model_epochs(num_epochs)\",\n",
        "    setup=\"num_epochs=100\",\n",
        "    number=1,\n",
        "    globals=globals(),\n",
        ")"
      ],
      "execution_count": 0,
      "outputs": [
        {
          "output_type": "stream",
          "text": [
            "Epoch / Batch [1 / 19] - Loss: 2.303 - Acc:0.087\n",
            "Epoch / Batch [1 / 38] - Loss: 2.306 - Acc:0.090\n",
            "Epoch / Batch [1 / 57] - Loss: 2.299 - Acc:0.093\n",
            "Epoch / Batch [1 / 76] - Loss: 2.292 - Acc:0.098\n",
            "Epoch / Batch [1 / 95] - Loss: 2.282 - Acc:0.097\n",
            "Epoch / Batch [1 / 114] - Loss: 2.277 - Acc:0.098\n",
            "Epoch / Batch [1 / 133] - Loss: 2.267 - Acc:0.100\n",
            "Epoch / Batch [1 / 152] - Loss: 2.257 - Acc:0.101\n",
            "Epoch / Batch [1 / 171] - Loss: 2.257 - Acc:0.104\n",
            "Epoch / Batch [1 / 190] - Loss: 2.252 - Acc:0.110\n",
            "- val_loss:2.209 - val_Acc:0.182\n",
            "Epoch / Batch [2 / 19] - Loss: 2.212 - Acc:0.116\n",
            "Epoch / Batch [2 / 38] - Loss: 2.210 - Acc:0.120\n",
            "Epoch / Batch [2 / 57] - Loss: 2.206 - Acc:0.126\n",
            "Epoch / Batch [2 / 76] - Loss: 2.166 - Acc:0.132\n",
            "Epoch / Batch [2 / 95] - Loss: 2.153 - Acc:0.136\n",
            "Epoch / Batch [2 / 114] - Loss: 2.064 - Acc:0.141\n",
            "Epoch / Batch [2 / 133] - Loss: 2.078 - Acc:0.146\n",
            "Epoch / Batch [2 / 152] - Loss: 1.958 - Acc:0.154\n",
            "Epoch / Batch [2 / 171] - Loss: 1.984 - Acc:0.160\n",
            "Epoch / Batch [2 / 190] - Loss: 1.961 - Acc:0.166\n",
            "- val_loss:1.957 - val_Acc:0.230\n",
            "Epoch / Batch [3 / 19] - Loss: 1.971 - Acc:0.172\n",
            "Epoch / Batch [3 / 38] - Loss: 1.981 - Acc:0.175\n",
            "Epoch / Batch [3 / 57] - Loss: 1.860 - Acc:0.180\n",
            "Epoch / Batch [3 / 76] - Loss: 1.898 - Acc:0.185\n",
            "Epoch / Batch [3 / 95] - Loss: 1.960 - Acc:0.189\n",
            "Epoch / Batch [3 / 114] - Loss: 1.980 - Acc:0.192\n",
            "Epoch / Batch [3 / 133] - Loss: 1.887 - Acc:0.196\n",
            "Epoch / Batch [3 / 152] - Loss: 1.932 - Acc:0.198\n",
            "Epoch / Batch [3 / 171] - Loss: 1.926 - Acc:0.200\n",
            "Epoch / Batch [3 / 190] - Loss: 1.875 - Acc:0.204\n",
            "- val_loss:2.001 - val_Acc:0.242\n",
            "Epoch / Batch [4 / 19] - Loss: 1.940 - Acc:0.209\n",
            "Epoch / Batch [4 / 38] - Loss: 1.857 - Acc:0.211\n",
            "Epoch / Batch [4 / 57] - Loss: 1.890 - Acc:0.214\n",
            "Epoch / Batch [4 / 76] - Loss: 1.975 - Acc:0.216\n",
            "Epoch / Batch [4 / 95] - Loss: 1.895 - Acc:0.218\n",
            "Epoch / Batch [4 / 114] - Loss: 1.871 - Acc:0.220\n",
            "Epoch / Batch [4 / 133] - Loss: 1.868 - Acc:0.222\n",
            "Epoch / Batch [4 / 152] - Loss: 1.951 - Acc:0.223\n",
            "Epoch / Batch [4 / 171] - Loss: 1.857 - Acc:0.226\n",
            "Epoch / Batch [4 / 190] - Loss: 1.894 - Acc:0.227\n",
            "- val_loss:1.854 - val_Acc:0.265\n",
            "Epoch / Batch [5 / 19] - Loss: 1.836 - Acc:0.231\n",
            "Epoch / Batch [5 / 38] - Loss: 1.833 - Acc:0.233\n",
            "Epoch / Batch [5 / 57] - Loss: 1.838 - Acc:0.235\n",
            "Epoch / Batch [5 / 76] - Loss: 1.826 - Acc:0.237\n",
            "Epoch / Batch [5 / 95] - Loss: 1.913 - Acc:0.238\n",
            "Epoch / Batch [5 / 114] - Loss: 1.847 - Acc:0.240\n",
            "Epoch / Batch [5 / 133] - Loss: 1.918 - Acc:0.241\n",
            "Epoch / Batch [5 / 152] - Loss: 1.823 - Acc:0.244\n",
            "Epoch / Batch [5 / 171] - Loss: 1.909 - Acc:0.245\n",
            "Epoch / Batch [5 / 190] - Loss: 1.765 - Acc:0.247\n",
            "- val_loss:1.832 - val_Acc:0.283\n",
            "Epoch / Batch [6 / 19] - Loss: 1.796 - Acc:0.250\n",
            "Epoch / Batch [6 / 38] - Loss: 1.821 - Acc:0.251\n",
            "Epoch / Batch [6 / 57] - Loss: 1.794 - Acc:0.253\n",
            "Epoch / Batch [6 / 76] - Loss: 1.758 - Acc:0.255\n",
            "Epoch / Batch [6 / 95] - Loss: 1.830 - Acc:0.256\n",
            "Epoch / Batch [6 / 114] - Loss: 1.737 - Acc:0.259\n",
            "Epoch / Batch [6 / 133] - Loss: 1.800 - Acc:0.260\n",
            "Epoch / Batch [6 / 152] - Loss: 1.773 - Acc:0.262\n",
            "Epoch / Batch [6 / 171] - Loss: 1.851 - Acc:0.263\n",
            "Epoch / Batch [6 / 190] - Loss: 1.850 - Acc:0.265\n",
            "- val_loss:1.740 - val_Acc:0.299\n",
            "Epoch / Batch [7 / 19] - Loss: 1.817 - Acc:0.266\n",
            "Epoch / Batch [7 / 38] - Loss: 1.782 - Acc:0.268\n",
            "Epoch / Batch [7 / 57] - Loss: 1.782 - Acc:0.269\n",
            "Epoch / Batch [7 / 76] - Loss: 1.743 - Acc:0.271\n",
            "Epoch / Batch [7 / 95] - Loss: 1.660 - Acc:0.273\n",
            "Epoch / Batch [7 / 114] - Loss: 1.721 - Acc:0.275\n",
            "Epoch / Batch [7 / 133] - Loss: 1.750 - Acc:0.276\n",
            "Epoch / Batch [7 / 152] - Loss: 1.731 - Acc:0.278\n",
            "Epoch / Batch [7 / 171] - Loss: 1.781 - Acc:0.279\n",
            "Epoch / Batch [7 / 190] - Loss: 1.726 - Acc:0.281\n",
            "- val_loss:1.697 - val_Acc:0.317\n",
            "Epoch / Batch [8 / 19] - Loss: 1.695 - Acc:0.283\n",
            "Epoch / Batch [8 / 38] - Loss: 1.779 - Acc:0.284\n",
            "Epoch / Batch [8 / 57] - Loss: 1.656 - Acc:0.286\n",
            "Epoch / Batch [8 / 76] - Loss: 1.778 - Acc:0.287\n",
            "Epoch / Batch [8 / 95] - Loss: 1.748 - Acc:0.288\n",
            "Epoch / Batch [8 / 114] - Loss: 1.717 - Acc:0.290\n",
            "Epoch / Batch [8 / 133] - Loss: 1.643 - Acc:0.291\n",
            "Epoch / Batch [8 / 152] - Loss: 1.738 - Acc:0.292\n",
            "Epoch / Batch [8 / 171] - Loss: 1.624 - Acc:0.294\n",
            "Epoch / Batch [8 / 190] - Loss: 1.644 - Acc:0.295\n",
            "- val_loss:1.592 - val_Acc:0.333\n",
            "Epoch / Batch [9 / 19] - Loss: 1.647 - Acc:0.297\n",
            "Epoch / Batch [9 / 38] - Loss: 1.632 - Acc:0.299\n",
            "Epoch / Batch [9 / 57] - Loss: 1.595 - Acc:0.300\n",
            "Epoch / Batch [9 / 76] - Loss: 1.742 - Acc:0.301\n",
            "Epoch / Batch [9 / 95] - Loss: 1.778 - Acc:0.302\n",
            "Epoch / Batch [9 / 114] - Loss: 1.637 - Acc:0.303\n",
            "Epoch / Batch [9 / 133] - Loss: 1.712 - Acc:0.304\n",
            "Epoch / Batch [9 / 152] - Loss: 1.657 - Acc:0.305\n",
            "Epoch / Batch [9 / 171] - Loss: 1.582 - Acc:0.307\n",
            "Epoch / Batch [9 / 190] - Loss: 1.630 - Acc:0.308\n",
            "- val_loss:1.579 - val_Acc:0.344\n",
            "Epoch / Batch [10 / 19] - Loss: 1.641 - Acc:0.309\n",
            "Epoch / Batch [10 / 38] - Loss: 1.547 - Acc:0.311\n",
            "Epoch / Batch [10 / 57] - Loss: 1.617 - Acc:0.312\n",
            "Epoch / Batch [10 / 76] - Loss: 1.676 - Acc:0.313\n",
            "Epoch / Batch [10 / 95] - Loss: 1.566 - Acc:0.314\n",
            "Epoch / Batch [10 / 114] - Loss: 1.651 - Acc:0.315\n",
            "Epoch / Batch [10 / 133] - Loss: 1.654 - Acc:0.316\n",
            "Epoch / Batch [10 / 152] - Loss: 1.625 - Acc:0.317\n",
            "Epoch / Batch [10 / 171] - Loss: 1.582 - Acc:0.318\n",
            "Epoch / Batch [10 / 190] - Loss: 1.644 - Acc:0.319\n",
            "- val_loss:1.557 - val_Acc:0.354\n",
            "Epoch / Batch [11 / 19] - Loss: 1.543 - Acc:0.321\n",
            "Epoch / Batch [11 / 38] - Loss: 1.574 - Acc:0.322\n",
            "Epoch / Batch [11 / 57] - Loss: 1.618 - Acc:0.323\n",
            "Epoch / Batch [11 / 76] - Loss: 1.599 - Acc:0.324\n",
            "Epoch / Batch [11 / 95] - Loss: 1.613 - Acc:0.325\n",
            "Epoch / Batch [11 / 114] - Loss: 1.555 - Acc:0.326\n",
            "Epoch / Batch [11 / 133] - Loss: 1.557 - Acc:0.327\n",
            "Epoch / Batch [11 / 152] - Loss: 1.569 - Acc:0.328\n",
            "Epoch / Batch [11 / 171] - Loss: 1.527 - Acc:0.329\n",
            "Epoch / Batch [11 / 190] - Loss: 1.485 - Acc:0.331\n",
            "- val_loss:1.534 - val_Acc:0.362\n",
            "Epoch / Batch [12 / 19] - Loss: 1.543 - Acc:0.332\n",
            "Epoch / Batch [12 / 38] - Loss: 1.513 - Acc:0.333\n",
            "Epoch / Batch [12 / 57] - Loss: 1.525 - Acc:0.334\n",
            "Epoch / Batch [12 / 76] - Loss: 1.570 - Acc:0.335\n",
            "Epoch / Batch [12 / 95] - Loss: 1.544 - Acc:0.336\n",
            "Epoch / Batch [12 / 114] - Loss: 1.542 - Acc:0.337\n",
            "Epoch / Batch [12 / 133] - Loss: 1.514 - Acc:0.338\n",
            "Epoch / Batch [12 / 152] - Loss: 1.547 - Acc:0.339\n",
            "Epoch / Batch [12 / 171] - Loss: 1.493 - Acc:0.340\n",
            "Epoch / Batch [12 / 190] - Loss: 1.581 - Acc:0.341\n",
            "- val_loss:1.468 - val_Acc:0.372\n",
            "Epoch / Batch [13 / 19] - Loss: 1.518 - Acc:0.342\n",
            "Epoch / Batch [13 / 38] - Loss: 1.556 - Acc:0.343\n",
            "Epoch / Batch [13 / 57] - Loss: 1.459 - Acc:0.344\n",
            "Epoch / Batch [13 / 76] - Loss: 1.496 - Acc:0.345\n",
            "Epoch / Batch [13 / 95] - Loss: 1.525 - Acc:0.346\n",
            "Epoch / Batch [13 / 114] - Loss: 1.460 - Acc:0.347\n",
            "Epoch / Batch [13 / 133] - Loss: 1.526 - Acc:0.348\n",
            "Epoch / Batch [13 / 152] - Loss: 1.547 - Acc:0.349\n",
            "Epoch / Batch [13 / 171] - Loss: 1.507 - Acc:0.350\n",
            "Epoch / Batch [13 / 190] - Loss: 1.456 - Acc:0.351\n",
            "- val_loss:1.455 - val_Acc:0.381\n",
            "Epoch / Batch [14 / 19] - Loss: 1.471 - Acc:0.352\n",
            "Epoch / Batch [14 / 38] - Loss: 1.454 - Acc:0.353\n",
            "Epoch / Batch [14 / 57] - Loss: 1.522 - Acc:0.354\n",
            "Epoch / Batch [14 / 76] - Loss: 1.431 - Acc:0.355\n",
            "Epoch / Batch [14 / 95] - Loss: 1.412 - Acc:0.356\n",
            "Epoch / Batch [14 / 114] - Loss: 1.422 - Acc:0.357\n",
            "Epoch / Batch [14 / 133] - Loss: 1.397 - Acc:0.359\n",
            "Epoch / Batch [14 / 152] - Loss: 1.469 - Acc:0.359\n",
            "Epoch / Batch [14 / 171] - Loss: 1.459 - Acc:0.360\n",
            "Epoch / Batch [14 / 190] - Loss: 1.481 - Acc:0.361\n",
            "- val_loss:1.398 - val_Acc:0.389\n",
            "Epoch / Batch [15 / 19] - Loss: 1.399 - Acc:0.362\n",
            "Epoch / Batch [15 / 38] - Loss: 1.459 - Acc:0.363\n",
            "Epoch / Batch [15 / 57] - Loss: 1.507 - Acc:0.364\n",
            "Epoch / Batch [15 / 76] - Loss: 1.542 - Acc:0.365\n",
            "Epoch / Batch [15 / 95] - Loss: 1.479 - Acc:0.365\n",
            "Epoch / Batch [15 / 114] - Loss: 1.401 - Acc:0.366\n",
            "Epoch / Batch [15 / 133] - Loss: 1.439 - Acc:0.367\n",
            "Epoch / Batch [15 / 152] - Loss: 1.365 - Acc:0.368\n",
            "Epoch / Batch [15 / 171] - Loss: 1.457 - Acc:0.369\n",
            "Epoch / Batch [15 / 190] - Loss: 1.518 - Acc:0.370\n",
            "- val_loss:1.415 - val_Acc:0.397\n",
            "Epoch / Batch [16 / 19] - Loss: 1.444 - Acc:0.371\n",
            "Epoch / Batch [16 / 38] - Loss: 1.413 - Acc:0.372\n",
            "Epoch / Batch [16 / 57] - Loss: 1.326 - Acc:0.373\n",
            "Epoch / Batch [16 / 76] - Loss: 1.421 - Acc:0.374\n",
            "Epoch / Batch [16 / 95] - Loss: 1.376 - Acc:0.375\n",
            "Epoch / Batch [16 / 114] - Loss: 1.346 - Acc:0.376\n",
            "Epoch / Batch [16 / 133] - Loss: 1.386 - Acc:0.377\n",
            "Epoch / Batch [16 / 152] - Loss: 1.407 - Acc:0.377\n",
            "Epoch / Batch [16 / 171] - Loss: 1.475 - Acc:0.378\n",
            "Epoch / Batch [16 / 190] - Loss: 1.457 - Acc:0.379\n",
            "- val_loss:1.398 - val_Acc:0.404\n",
            "Epoch / Batch [17 / 19] - Loss: 1.386 - Acc:0.380\n",
            "Epoch / Batch [17 / 38] - Loss: 1.360 - Acc:0.381\n",
            "Epoch / Batch [17 / 57] - Loss: 1.350 - Acc:0.382\n",
            "Epoch / Batch [17 / 76] - Loss: 1.451 - Acc:0.382\n",
            "Epoch / Batch [17 / 95] - Loss: 1.470 - Acc:0.383\n",
            "Epoch / Batch [17 / 114] - Loss: 1.401 - Acc:0.384\n",
            "Epoch / Batch [17 / 133] - Loss: 1.361 - Acc:0.385\n",
            "Epoch / Batch [17 / 152] - Loss: 1.262 - Acc:0.386\n",
            "Epoch / Batch [17 / 171] - Loss: 1.403 - Acc:0.386\n",
            "Epoch / Batch [17 / 190] - Loss: 1.302 - Acc:0.387\n",
            "- val_loss:1.398 - val_Acc:0.410\n",
            "Epoch / Batch [18 / 19] - Loss: 1.425 - Acc:0.389\n",
            "Epoch / Batch [18 / 38] - Loss: 1.335 - Acc:0.390\n",
            "Epoch / Batch [18 / 57] - Loss: 1.381 - Acc:0.390\n",
            "Epoch / Batch [18 / 76] - Loss: 1.374 - Acc:0.391\n",
            "Epoch / Batch [18 / 95] - Loss: 1.341 - Acc:0.392\n",
            "Epoch / Batch [18 / 114] - Loss: 1.278 - Acc:0.393\n",
            "Epoch / Batch [18 / 133] - Loss: 1.327 - Acc:0.394\n",
            "Epoch / Batch [18 / 152] - Loss: 1.390 - Acc:0.394\n",
            "Epoch / Batch [18 / 171] - Loss: 1.316 - Acc:0.395\n",
            "Epoch / Batch [18 / 190] - Loss: 1.245 - Acc:0.396\n",
            "- val_loss:1.322 - val_Acc:0.416\n",
            "Epoch / Batch [19 / 19] - Loss: 1.230 - Acc:0.397\n",
            "Epoch / Batch [19 / 38] - Loss: 1.359 - Acc:0.398\n",
            "Epoch / Batch [19 / 57] - Loss: 1.299 - Acc:0.399\n",
            "Epoch / Batch [19 / 76] - Loss: 1.440 - Acc:0.399\n",
            "Epoch / Batch [19 / 95] - Loss: 1.350 - Acc:0.400\n",
            "Epoch / Batch [19 / 114] - Loss: 1.305 - Acc:0.401\n",
            "Epoch / Batch [19 / 133] - Loss: 1.300 - Acc:0.402\n",
            "Epoch / Batch [19 / 152] - Loss: 1.296 - Acc:0.403\n",
            "Epoch / Batch [19 / 171] - Loss: 1.242 - Acc:0.404\n",
            "Epoch / Batch [19 / 190] - Loss: 1.301 - Acc:0.404\n",
            "- val_loss:1.277 - val_Acc:0.424\n",
            "Epoch / Batch [20 / 19] - Loss: 1.229 - Acc:0.405\n",
            "Epoch / Batch [20 / 38] - Loss: 1.301 - Acc:0.406\n",
            "Epoch / Batch [20 / 57] - Loss: 1.404 - Acc:0.407\n",
            "Epoch / Batch [20 / 76] - Loss: 1.255 - Acc:0.408\n",
            "Epoch / Batch [20 / 95] - Loss: 1.329 - Acc:0.408\n",
            "Epoch / Batch [20 / 114] - Loss: 1.151 - Acc:0.409\n",
            "Epoch / Batch [20 / 133] - Loss: 1.237 - Acc:0.410\n",
            "Epoch / Batch [20 / 152] - Loss: 1.417 - Acc:0.410\n",
            "Epoch / Batch [20 / 171] - Loss: 1.255 - Acc:0.411\n",
            "Epoch / Batch [20 / 190] - Loss: 1.293 - Acc:0.412\n",
            "- val_loss:1.267 - val_Acc:0.430\n",
            "Epoch / Batch [21 / 19] - Loss: 1.216 - Acc:0.413\n",
            "Epoch / Batch [21 / 38] - Loss: 1.268 - Acc:0.413\n",
            "Epoch / Batch [21 / 57] - Loss: 1.255 - Acc:0.414\n",
            "Epoch / Batch [21 / 76] - Loss: 1.322 - Acc:0.415\n",
            "Epoch / Batch [21 / 95] - Loss: 1.230 - Acc:0.415\n",
            "Epoch / Batch [21 / 114] - Loss: 1.236 - Acc:0.416\n",
            "Epoch / Batch [21 / 133] - Loss: 1.234 - Acc:0.417\n",
            "Epoch / Batch [21 / 152] - Loss: 1.182 - Acc:0.417\n",
            "Epoch / Batch [21 / 171] - Loss: 1.244 - Acc:0.418\n",
            "Epoch / Batch [21 / 190] - Loss: 1.308 - Acc:0.419\n",
            "- val_loss:1.305 - val_Acc:0.435\n",
            "Epoch / Batch [22 / 19] - Loss: 1.276 - Acc:0.419\n",
            "Epoch / Batch [22 / 38] - Loss: 1.179 - Acc:0.420\n",
            "Epoch / Batch [22 / 57] - Loss: 1.178 - Acc:0.421\n",
            "Epoch / Batch [22 / 76] - Loss: 1.229 - Acc:0.422\n",
            "Epoch / Batch [22 / 95] - Loss: 1.226 - Acc:0.422\n",
            "Epoch / Batch [22 / 114] - Loss: 1.196 - Acc:0.423\n",
            "Epoch / Batch [22 / 133] - Loss: 1.330 - Acc:0.424\n",
            "Epoch / Batch [22 / 152] - Loss: 1.263 - Acc:0.424\n",
            "Epoch / Batch [22 / 171] - Loss: 1.391 - Acc:0.425\n",
            "Epoch / Batch [22 / 190] - Loss: 1.261 - Acc:0.425\n",
            "- val_loss:1.247 - val_Acc:0.441\n",
            "Epoch / Batch [23 / 19] - Loss: 1.263 - Acc:0.426\n",
            "Epoch / Batch [23 / 38] - Loss: 1.256 - Acc:0.427\n",
            "Epoch / Batch [23 / 57] - Loss: 1.147 - Acc:0.427\n",
            "Epoch / Batch [23 / 76] - Loss: 1.262 - Acc:0.428\n",
            "Epoch / Batch [23 / 95] - Loss: 1.243 - Acc:0.429\n",
            "Epoch / Batch [23 / 114] - Loss: 1.298 - Acc:0.429\n",
            "Epoch / Batch [23 / 133] - Loss: 1.302 - Acc:0.430\n",
            "Epoch / Batch [23 / 152] - Loss: 1.196 - Acc:0.431\n",
            "Epoch / Batch [23 / 171] - Loss: 1.297 - Acc:0.431\n",
            "Epoch / Batch [23 / 190] - Loss: 1.228 - Acc:0.432\n",
            "- val_loss:1.323 - val_Acc:0.446\n",
            "Epoch / Batch [24 / 19] - Loss: 1.225 - Acc:0.432\n",
            "Epoch / Batch [24 / 38] - Loss: 1.161 - Acc:0.433\n",
            "Epoch / Batch [24 / 57] - Loss: 1.188 - Acc:0.434\n",
            "Epoch / Batch [24 / 76] - Loss: 1.266 - Acc:0.434\n",
            "Epoch / Batch [24 / 95] - Loss: 1.193 - Acc:0.435\n",
            "Epoch / Batch [24 / 114] - Loss: 1.183 - Acc:0.436\n",
            "Epoch / Batch [24 / 133] - Loss: 1.161 - Acc:0.436\n",
            "Epoch / Batch [24 / 152] - Loss: 1.160 - Acc:0.437\n",
            "Epoch / Batch [24 / 171] - Loss: 1.225 - Acc:0.437\n",
            "Epoch / Batch [24 / 190] - Loss: 1.255 - Acc:0.438\n",
            "- val_loss:1.236 - val_Acc:0.451\n",
            "Epoch / Batch [25 / 19] - Loss: 1.197 - Acc:0.439\n",
            "Epoch / Batch [25 / 38] - Loss: 1.114 - Acc:0.440\n",
            "Epoch / Batch [25 / 57] - Loss: 1.179 - Acc:0.440\n",
            "Epoch / Batch [25 / 76] - Loss: 1.206 - Acc:0.441\n",
            "Epoch / Batch [25 / 95] - Loss: 1.227 - Acc:0.441\n",
            "Epoch / Batch [25 / 114] - Loss: 1.250 - Acc:0.442\n",
            "Epoch / Batch [25 / 133] - Loss: 1.168 - Acc:0.442\n",
            "Epoch / Batch [25 / 152] - Loss: 1.137 - Acc:0.443\n",
            "Epoch / Batch [25 / 171] - Loss: 1.140 - Acc:0.444\n",
            "Epoch / Batch [25 / 190] - Loss: 1.210 - Acc:0.444\n",
            "- val_loss:1.224 - val_Acc:0.456\n",
            "Epoch / Batch [26 / 19] - Loss: 1.181 - Acc:0.445\n",
            "Epoch / Batch [26 / 38] - Loss: 1.162 - Acc:0.446\n",
            "Epoch / Batch [26 / 57] - Loss: 1.299 - Acc:0.446\n",
            "Epoch / Batch [26 / 76] - Loss: 1.110 - Acc:0.447\n",
            "Epoch / Batch [26 / 95] - Loss: 1.212 - Acc:0.447\n",
            "Epoch / Batch [26 / 114] - Loss: 1.161 - Acc:0.448\n",
            "Epoch / Batch [26 / 133] - Loss: 1.217 - Acc:0.448\n",
            "Epoch / Batch [26 / 152] - Loss: 1.106 - Acc:0.449\n",
            "Epoch / Batch [26 / 171] - Loss: 1.101 - Acc:0.450\n",
            "Epoch / Batch [26 / 190] - Loss: 1.190 - Acc:0.450\n",
            "- val_loss:1.359 - val_Acc:0.459\n",
            "Epoch / Batch [27 / 19] - Loss: 1.170 - Acc:0.451\n",
            "Epoch / Batch [27 / 38] - Loss: 1.162 - Acc:0.451\n",
            "Epoch / Batch [27 / 57] - Loss: 1.114 - Acc:0.452\n",
            "Epoch / Batch [27 / 76] - Loss: 1.063 - Acc:0.453\n",
            "Epoch / Batch [27 / 95] - Loss: 1.154 - Acc:0.453\n",
            "Epoch / Batch [27 / 114] - Loss: 1.084 - Acc:0.454\n",
            "Epoch / Batch [27 / 133] - Loss: 1.182 - Acc:0.454\n",
            "Epoch / Batch [27 / 152] - Loss: 1.285 - Acc:0.455\n",
            "Epoch / Batch [27 / 171] - Loss: 1.222 - Acc:0.455\n",
            "Epoch / Batch [27 / 190] - Loss: 1.139 - Acc:0.456\n",
            "- val_loss:1.244 - val_Acc:0.463\n",
            "Epoch / Batch [28 / 19] - Loss: 1.101 - Acc:0.456\n",
            "Epoch / Batch [28 / 38] - Loss: 1.009 - Acc:0.457\n",
            "Epoch / Batch [28 / 57] - Loss: 1.196 - Acc:0.458\n",
            "Epoch / Batch [28 / 76] - Loss: 1.114 - Acc:0.458\n",
            "Epoch / Batch [28 / 95] - Loss: 1.116 - Acc:0.459\n",
            "Epoch / Batch [28 / 114] - Loss: 1.204 - Acc:0.459\n",
            "Epoch / Batch [28 / 133] - Loss: 1.164 - Acc:0.460\n",
            "Epoch / Batch [28 / 152] - Loss: 1.072 - Acc:0.460\n",
            "Epoch / Batch [28 / 171] - Loss: 1.105 - Acc:0.461\n",
            "Epoch / Batch [28 / 190] - Loss: 1.259 - Acc:0.461\n",
            "- val_loss:1.228 - val_Acc:0.467\n",
            "Epoch / Batch [29 / 19] - Loss: 1.214 - Acc:0.462\n",
            "Epoch / Batch [29 / 38] - Loss: 1.190 - Acc:0.462\n",
            "Epoch / Batch [29 / 57] - Loss: 1.172 - Acc:0.463\n",
            "Epoch / Batch [29 / 76] - Loss: 1.112 - Acc:0.463\n",
            "Epoch / Batch [29 / 95] - Loss: 1.118 - Acc:0.464\n",
            "Epoch / Batch [29 / 114] - Loss: 1.155 - Acc:0.464\n",
            "Epoch / Batch [29 / 133] - Loss: 1.135 - Acc:0.465\n",
            "Epoch / Batch [29 / 152] - Loss: 1.139 - Acc:0.465\n",
            "Epoch / Batch [29 / 171] - Loss: 1.150 - Acc:0.465\n",
            "Epoch / Batch [29 / 190] - Loss: 1.065 - Acc:0.466\n",
            "- val_loss:1.145 - val_Acc:0.471\n",
            "Epoch / Batch [30 / 19] - Loss: 1.054 - Acc:0.467\n",
            "Epoch / Batch [30 / 38] - Loss: 1.092 - Acc:0.467\n",
            "Epoch / Batch [30 / 57] - Loss: 1.124 - Acc:0.468\n",
            "Epoch / Batch [30 / 76] - Loss: 1.149 - Acc:0.468\n",
            "Epoch / Batch [30 / 95] - Loss: 1.185 - Acc:0.469\n",
            "Epoch / Batch [30 / 114] - Loss: 1.034 - Acc:0.469\n",
            "Epoch / Batch [30 / 133] - Loss: 1.074 - Acc:0.470\n",
            "Epoch / Batch [30 / 152] - Loss: 1.050 - Acc:0.470\n",
            "Epoch / Batch [30 / 171] - Loss: 1.172 - Acc:0.471\n",
            "Epoch / Batch [30 / 190] - Loss: 1.165 - Acc:0.471\n",
            "- val_loss:1.218 - val_Acc:0.474\n",
            "Epoch / Batch [31 / 19] - Loss: 1.103 - Acc:0.472\n",
            "Epoch / Batch [31 / 38] - Loss: 1.065 - Acc:0.472\n",
            "Epoch / Batch [31 / 57] - Loss: 1.071 - Acc:0.473\n",
            "Epoch / Batch [31 / 76] - Loss: 1.099 - Acc:0.473\n",
            "Epoch / Batch [31 / 95] - Loss: 1.079 - Acc:0.474\n",
            "Epoch / Batch [31 / 114] - Loss: 1.097 - Acc:0.474\n",
            "Epoch / Batch [31 / 133] - Loss: 1.116 - Acc:0.475\n",
            "Epoch / Batch [31 / 152] - Loss: 1.113 - Acc:0.475\n",
            "Epoch / Batch [31 / 171] - Loss: 1.039 - Acc:0.476\n",
            "Epoch / Batch [31 / 190] - Loss: 1.109 - Acc:0.476\n",
            "- val_loss:1.228 - val_Acc:0.478\n",
            "Epoch / Batch [32 / 19] - Loss: 1.099 - Acc:0.477\n",
            "Epoch / Batch [32 / 38] - Loss: 1.048 - Acc:0.477\n",
            "Epoch / Batch [32 / 57] - Loss: 1.096 - Acc:0.478\n",
            "Epoch / Batch [32 / 76] - Loss: 1.071 - Acc:0.478\n",
            "Epoch / Batch [32 / 95] - Loss: 1.045 - Acc:0.479\n",
            "Epoch / Batch [32 / 114] - Loss: 1.136 - Acc:0.479\n",
            "Epoch / Batch [32 / 133] - Loss: 1.044 - Acc:0.480\n",
            "Epoch / Batch [32 / 152] - Loss: 1.047 - Acc:0.480\n",
            "Epoch / Batch [32 / 171] - Loss: 1.047 - Acc:0.481\n",
            "Epoch / Batch [32 / 190] - Loss: 1.170 - Acc:0.481\n",
            "- val_loss:1.189 - val_Acc:0.482\n",
            "Epoch / Batch [33 / 19] - Loss: 1.009 - Acc:0.482\n",
            "Epoch / Batch [33 / 38] - Loss: 1.084 - Acc:0.482\n",
            "Epoch / Batch [33 / 57] - Loss: 0.972 - Acc:0.483\n",
            "Epoch / Batch [33 / 76] - Loss: 1.120 - Acc:0.483\n",
            "Epoch / Batch [33 / 95] - Loss: 1.073 - Acc:0.484\n",
            "Epoch / Batch [33 / 114] - Loss: 1.113 - Acc:0.484\n",
            "Epoch / Batch [33 / 133] - Loss: 1.138 - Acc:0.484\n",
            "Epoch / Batch [33 / 152] - Loss: 1.100 - Acc:0.485\n",
            "Epoch / Batch [33 / 171] - Loss: 1.051 - Acc:0.485\n",
            "Epoch / Batch [33 / 190] - Loss: 1.073 - Acc:0.486\n",
            "- val_loss:1.203 - val_Acc:0.485\n",
            "Epoch / Batch [34 / 19] - Loss: 1.070 - Acc:0.486\n",
            "Epoch / Batch [34 / 38] - Loss: 1.024 - Acc:0.487\n",
            "Epoch / Batch [34 / 57] - Loss: 1.107 - Acc:0.487\n",
            "Epoch / Batch [34 / 76] - Loss: 1.076 - Acc:0.488\n",
            "Epoch / Batch [34 / 95] - Loss: 1.005 - Acc:0.488\n",
            "Epoch / Batch [34 / 114] - Loss: 1.041 - Acc:0.489\n",
            "Epoch / Batch [34 / 133] - Loss: 1.073 - Acc:0.489\n",
            "Epoch / Batch [34 / 152] - Loss: 1.112 - Acc:0.489\n",
            "Epoch / Batch [34 / 171] - Loss: 1.018 - Acc:0.490\n",
            "Epoch / Batch [34 / 190] - Loss: 1.020 - Acc:0.490\n",
            "- val_loss:1.158 - val_Acc:0.488\n",
            "Epoch / Batch [35 / 19] - Loss: 1.031 - Acc:0.491\n",
            "Epoch / Batch [35 / 38] - Loss: 0.958 - Acc:0.492\n",
            "Epoch / Batch [35 / 57] - Loss: 1.012 - Acc:0.492\n",
            "Epoch / Batch [35 / 76] - Loss: 1.043 - Acc:0.492\n",
            "Epoch / Batch [35 / 95] - Loss: 1.065 - Acc:0.493\n",
            "Epoch / Batch [35 / 114] - Loss: 0.966 - Acc:0.493\n",
            "Epoch / Batch [35 / 133] - Loss: 1.073 - Acc:0.494\n",
            "Epoch / Batch [35 / 152] - Loss: 1.108 - Acc:0.494\n",
            "Epoch / Batch [35 / 171] - Loss: 1.048 - Acc:0.494\n",
            "Epoch / Batch [35 / 190] - Loss: 0.979 - Acc:0.495\n",
            "- val_loss:1.141 - val_Acc:0.491\n",
            "Epoch / Batch [36 / 19] - Loss: 1.073 - Acc:0.495\n",
            "Epoch / Batch [36 / 38] - Loss: 1.073 - Acc:0.496\n",
            "Epoch / Batch [36 / 57] - Loss: 1.065 - Acc:0.496\n",
            "Epoch / Batch [36 / 76] - Loss: 1.015 - Acc:0.497\n",
            "Epoch / Batch [36 / 95] - Loss: 0.966 - Acc:0.497\n",
            "Epoch / Batch [36 / 114] - Loss: 0.952 - Acc:0.498\n",
            "Epoch / Batch [36 / 133] - Loss: 1.045 - Acc:0.498\n",
            "Epoch / Batch [36 / 152] - Loss: 1.046 - Acc:0.498\n",
            "Epoch / Batch [36 / 171] - Loss: 1.128 - Acc:0.499\n",
            "Epoch / Batch [36 / 190] - Loss: 1.026 - Acc:0.499\n",
            "- val_loss:1.104 - val_Acc:0.495\n",
            "Epoch / Batch [37 / 19] - Loss: 0.962 - Acc:0.500\n",
            "Epoch / Batch [37 / 38] - Loss: 1.044 - Acc:0.500\n",
            "Epoch / Batch [37 / 57] - Loss: 1.025 - Acc:0.501\n",
            "Epoch / Batch [37 / 76] - Loss: 1.133 - Acc:0.501\n",
            "Epoch / Batch [37 / 95] - Loss: 1.020 - Acc:0.501\n",
            "Epoch / Batch [37 / 114] - Loss: 1.051 - Acc:0.502\n",
            "Epoch / Batch [37 / 133] - Loss: 0.980 - Acc:0.502\n",
            "Epoch / Batch [37 / 152] - Loss: 1.041 - Acc:0.503\n",
            "Epoch / Batch [37 / 171] - Loss: 0.987 - Acc:0.503\n",
            "Epoch / Batch [37 / 190] - Loss: 1.111 - Acc:0.503\n",
            "- val_loss:1.204 - val_Acc:0.498\n",
            "Epoch / Batch [38 / 19] - Loss: 1.159 - Acc:0.504\n",
            "Epoch / Batch [38 / 38] - Loss: 1.001 - Acc:0.504\n",
            "Epoch / Batch [38 / 57] - Loss: 0.975 - Acc:0.505\n",
            "Epoch / Batch [38 / 76] - Loss: 1.055 - Acc:0.505\n",
            "Epoch / Batch [38 / 95] - Loss: 1.053 - Acc:0.505\n",
            "Epoch / Batch [38 / 114] - Loss: 0.992 - Acc:0.506\n",
            "Epoch / Batch [38 / 133] - Loss: 0.919 - Acc:0.506\n",
            "Epoch / Batch [38 / 152] - Loss: 1.035 - Acc:0.507\n",
            "Epoch / Batch [38 / 171] - Loss: 0.965 - Acc:0.507\n",
            "Epoch / Batch [38 / 190] - Loss: 0.965 - Acc:0.507\n",
            "- val_loss:1.120 - val_Acc:0.501\n",
            "Epoch / Batch [39 / 19] - Loss: 1.009 - Acc:0.508\n",
            "Epoch / Batch [39 / 38] - Loss: 0.966 - Acc:0.508\n",
            "Epoch / Batch [39 / 57] - Loss: 1.025 - Acc:0.509\n",
            "Epoch / Batch [39 / 76] - Loss: 1.032 - Acc:0.509\n",
            "Epoch / Batch [39 / 95] - Loss: 1.008 - Acc:0.509\n",
            "Epoch / Batch [39 / 114] - Loss: 1.055 - Acc:0.510\n",
            "Epoch / Batch [39 / 133] - Loss: 1.001 - Acc:0.510\n",
            "Epoch / Batch [39 / 152] - Loss: 1.059 - Acc:0.510\n",
            "Epoch / Batch [39 / 171] - Loss: 0.897 - Acc:0.511\n",
            "Epoch / Batch [39 / 190] - Loss: 0.992 - Acc:0.511\n",
            "- val_loss:1.106 - val_Acc:0.504\n",
            "Epoch / Batch [40 / 19] - Loss: 0.975 - Acc:0.512\n",
            "Epoch / Batch [40 / 38] - Loss: 1.052 - Acc:0.512\n",
            "Epoch / Batch [40 / 57] - Loss: 0.886 - Acc:0.512\n",
            "Epoch / Batch [40 / 76] - Loss: 1.035 - Acc:0.513\n",
            "Epoch / Batch [40 / 95] - Loss: 0.929 - Acc:0.513\n",
            "Epoch / Batch [40 / 114] - Loss: 1.047 - Acc:0.514\n",
            "Epoch / Batch [40 / 133] - Loss: 1.016 - Acc:0.514\n",
            "Epoch / Batch [40 / 152] - Loss: 0.976 - Acc:0.514\n",
            "Epoch / Batch [40 / 171] - Loss: 1.017 - Acc:0.515\n",
            "Epoch / Batch [40 / 190] - Loss: 1.013 - Acc:0.515\n",
            "- val_loss:1.097 - val_Acc:0.506\n",
            "Epoch / Batch [41 / 19] - Loss: 0.901 - Acc:0.516\n",
            "Epoch / Batch [41 / 38] - Loss: 0.879 - Acc:0.516\n",
            "Epoch / Batch [41 / 57] - Loss: 0.947 - Acc:0.516\n",
            "Epoch / Batch [41 / 76] - Loss: 0.997 - Acc:0.517\n",
            "Epoch / Batch [41 / 95] - Loss: 0.976 - Acc:0.517\n",
            "Epoch / Batch [41 / 114] - Loss: 1.021 - Acc:0.517\n",
            "Epoch / Batch [41 / 133] - Loss: 1.050 - Acc:0.518\n",
            "Epoch / Batch [41 / 152] - Loss: 1.018 - Acc:0.518\n",
            "Epoch / Batch [41 / 171] - Loss: 0.971 - Acc:0.518\n",
            "Epoch / Batch [41 / 190] - Loss: 1.002 - Acc:0.519\n",
            "- val_loss:1.180 - val_Acc:0.509\n",
            "Epoch / Batch [42 / 19] - Loss: 0.997 - Acc:0.519\n",
            "Epoch / Batch [42 / 38] - Loss: 1.018 - Acc:0.519\n",
            "Epoch / Batch [42 / 57] - Loss: 0.959 - Acc:0.520\n",
            "Epoch / Batch [42 / 76] - Loss: 0.911 - Acc:0.520\n",
            "Epoch / Batch [42 / 95] - Loss: 0.939 - Acc:0.521\n",
            "Epoch / Batch [42 / 114] - Loss: 1.043 - Acc:0.521\n",
            "Epoch / Batch [42 / 133] - Loss: 0.960 - Acc:0.521\n",
            "Epoch / Batch [42 / 152] - Loss: 0.969 - Acc:0.522\n",
            "Epoch / Batch [42 / 171] - Loss: 0.961 - Acc:0.522\n",
            "Epoch / Batch [42 / 190] - Loss: 0.950 - Acc:0.522\n",
            "- val_loss:1.151 - val_Acc:0.511\n",
            "Epoch / Batch [43 / 19] - Loss: 0.911 - Acc:0.523\n",
            "Epoch / Batch [43 / 38] - Loss: 0.929 - Acc:0.523\n",
            "Epoch / Batch [43 / 57] - Loss: 0.900 - Acc:0.524\n",
            "Epoch / Batch [43 / 76] - Loss: 0.990 - Acc:0.524\n",
            "Epoch / Batch [43 / 95] - Loss: 0.917 - Acc:0.524\n",
            "Epoch / Batch [43 / 114] - Loss: 1.033 - Acc:0.525\n",
            "Epoch / Batch [43 / 133] - Loss: 1.022 - Acc:0.525\n",
            "Epoch / Batch [43 / 152] - Loss: 0.949 - Acc:0.525\n",
            "Epoch / Batch [43 / 171] - Loss: 0.963 - Acc:0.526\n",
            "Epoch / Batch [43 / 190] - Loss: 1.014 - Acc:0.526\n",
            "- val_loss:1.085 - val_Acc:0.514\n",
            "Epoch / Batch [44 / 19] - Loss: 0.844 - Acc:0.527\n",
            "Epoch / Batch [44 / 38] - Loss: 0.894 - Acc:0.527\n",
            "Epoch / Batch [44 / 57] - Loss: 0.966 - Acc:0.527\n",
            "Epoch / Batch [44 / 76] - Loss: 0.963 - Acc:0.528\n",
            "Epoch / Batch [44 / 95] - Loss: 0.994 - Acc:0.528\n",
            "Epoch / Batch [44 / 114] - Loss: 0.950 - Acc:0.528\n",
            "Epoch / Batch [44 / 133] - Loss: 1.008 - Acc:0.528\n",
            "Epoch / Batch [44 / 152] - Loss: 0.993 - Acc:0.529\n",
            "Epoch / Batch [44 / 171] - Loss: 0.955 - Acc:0.529\n",
            "Epoch / Batch [44 / 190] - Loss: 1.030 - Acc:0.529\n",
            "- val_loss:1.155 - val_Acc:0.517\n",
            "Epoch / Batch [45 / 19] - Loss: 0.902 - Acc:0.530\n",
            "Epoch / Batch [45 / 38] - Loss: 0.996 - Acc:0.530\n",
            "Epoch / Batch [45 / 57] - Loss: 0.951 - Acc:0.530\n",
            "Epoch / Batch [45 / 76] - Loss: 0.942 - Acc:0.531\n",
            "Epoch / Batch [45 / 95] - Loss: 0.942 - Acc:0.531\n",
            "Epoch / Batch [45 / 114] - Loss: 0.930 - Acc:0.531\n",
            "Epoch / Batch [45 / 133] - Loss: 0.923 - Acc:0.532\n",
            "Epoch / Batch [45 / 152] - Loss: 0.977 - Acc:0.532\n",
            "Epoch / Batch [45 / 171] - Loss: 0.926 - Acc:0.532\n",
            "Epoch / Batch [45 / 190] - Loss: 0.970 - Acc:0.533\n",
            "- val_loss:1.098 - val_Acc:0.519\n",
            "Epoch / Batch [46 / 19] - Loss: 0.972 - Acc:0.533\n",
            "Epoch / Batch [46 / 38] - Loss: 0.951 - Acc:0.533\n",
            "Epoch / Batch [46 / 57] - Loss: 0.903 - Acc:0.534\n",
            "Epoch / Batch [46 / 76] - Loss: 0.985 - Acc:0.534\n",
            "Epoch / Batch [46 / 95] - Loss: 0.918 - Acc:0.535\n",
            "Epoch / Batch [46 / 114] - Loss: 0.969 - Acc:0.535\n",
            "Epoch / Batch [46 / 133] - Loss: 0.890 - Acc:0.535\n",
            "Epoch / Batch [46 / 152] - Loss: 0.998 - Acc:0.535\n",
            "Epoch / Batch [46 / 171] - Loss: 1.059 - Acc:0.536\n",
            "Epoch / Batch [46 / 190] - Loss: 0.806 - Acc:0.536\n",
            "- val_loss:1.166 - val_Acc:0.521\n",
            "Epoch / Batch [47 / 19] - Loss: 0.970 - Acc:0.536\n",
            "Epoch / Batch [47 / 38] - Loss: 0.926 - Acc:0.537\n",
            "Epoch / Batch [47 / 57] - Loss: 1.036 - Acc:0.537\n",
            "Epoch / Batch [47 / 76] - Loss: 0.869 - Acc:0.537\n",
            "Epoch / Batch [47 / 95] - Loss: 0.883 - Acc:0.538\n",
            "Epoch / Batch [47 / 114] - Loss: 0.965 - Acc:0.538\n",
            "Epoch / Batch [47 / 133] - Loss: 0.985 - Acc:0.538\n",
            "Epoch / Batch [47 / 152] - Loss: 0.962 - Acc:0.539\n",
            "Epoch / Batch [47 / 171] - Loss: 0.983 - Acc:0.539\n",
            "Epoch / Batch [47 / 190] - Loss: 0.909 - Acc:0.539\n",
            "- val_loss:1.177 - val_Acc:0.523\n",
            "Epoch / Batch [48 / 19] - Loss: 0.999 - Acc:0.539\n",
            "Epoch / Batch [48 / 38] - Loss: 0.927 - Acc:0.540\n",
            "Epoch / Batch [48 / 57] - Loss: 0.942 - Acc:0.540\n",
            "Epoch / Batch [48 / 76] - Loss: 0.856 - Acc:0.540\n",
            "Epoch / Batch [48 / 95] - Loss: 0.939 - Acc:0.541\n",
            "Epoch / Batch [48 / 114] - Loss: 0.926 - Acc:0.541\n",
            "Epoch / Batch [48 / 133] - Loss: 0.917 - Acc:0.541\n",
            "Epoch / Batch [48 / 152] - Loss: 0.944 - Acc:0.542\n",
            "Epoch / Batch [48 / 171] - Loss: 0.880 - Acc:0.542\n",
            "Epoch / Batch [48 / 190] - Loss: 0.966 - Acc:0.542\n",
            "- val_loss:1.133 - val_Acc:0.525\n",
            "Epoch / Batch [49 / 19] - Loss: 0.911 - Acc:0.543\n",
            "Epoch / Batch [49 / 38] - Loss: 0.942 - Acc:0.543\n",
            "Epoch / Batch [49 / 57] - Loss: 0.923 - Acc:0.543\n",
            "Epoch / Batch [49 / 76] - Loss: 0.847 - Acc:0.544\n",
            "Epoch / Batch [49 / 95] - Loss: 0.864 - Acc:0.544\n",
            "Epoch / Batch [49 / 114] - Loss: 1.009 - Acc:0.544\n",
            "Epoch / Batch [49 / 133] - Loss: 0.867 - Acc:0.544\n",
            "Epoch / Batch [49 / 152] - Loss: 1.027 - Acc:0.545\n",
            "Epoch / Batch [49 / 171] - Loss: 0.871 - Acc:0.545\n",
            "Epoch / Batch [49 / 190] - Loss: 0.996 - Acc:0.545\n",
            "- val_loss:1.110 - val_Acc:0.527\n",
            "Epoch / Batch [50 / 19] - Loss: 0.882 - Acc:0.545\n",
            "Epoch / Batch [50 / 38] - Loss: 0.923 - Acc:0.546\n",
            "Epoch / Batch [50 / 57] - Loss: 0.903 - Acc:0.546\n",
            "Epoch / Batch [50 / 76] - Loss: 0.881 - Acc:0.546\n",
            "Epoch / Batch [50 / 95] - Loss: 0.995 - Acc:0.546\n",
            "Epoch / Batch [50 / 114] - Loss: 0.899 - Acc:0.547\n",
            "Epoch / Batch [50 / 133] - Loss: 0.883 - Acc:0.547\n",
            "Epoch / Batch [50 / 152] - Loss: 0.956 - Acc:0.547\n",
            "Epoch / Batch [50 / 171] - Loss: 0.934 - Acc:0.548\n",
            "Epoch / Batch [50 / 190] - Loss: 0.940 - Acc:0.548\n",
            "- val_loss:1.045 - val_Acc:0.530\n",
            "Epoch / Batch [51 / 19] - Loss: 0.838 - Acc:0.548\n",
            "Epoch / Batch [51 / 38] - Loss: 0.888 - Acc:0.548\n",
            "Epoch / Batch [51 / 57] - Loss: 0.836 - Acc:0.549\n",
            "Epoch / Batch [51 / 76] - Loss: 1.015 - Acc:0.549\n",
            "Epoch / Batch [51 / 95] - Loss: 0.927 - Acc:0.549\n",
            "Epoch / Batch [51 / 114] - Loss: 0.920 - Acc:0.549\n",
            "Epoch / Batch [51 / 133] - Loss: 0.931 - Acc:0.550\n",
            "Epoch / Batch [51 / 152] - Loss: 0.999 - Acc:0.550\n",
            "Epoch / Batch [51 / 171] - Loss: 0.893 - Acc:0.550\n",
            "Epoch / Batch [51 / 190] - Loss: 0.881 - Acc:0.550\n",
            "- val_loss:1.096 - val_Acc:0.532\n",
            "Epoch / Batch [52 / 19] - Loss: 0.858 - Acc:0.551\n",
            "Epoch / Batch [52 / 38] - Loss: 0.821 - Acc:0.551\n",
            "Epoch / Batch [52 / 57] - Loss: 0.908 - Acc:0.552\n",
            "Epoch / Batch [52 / 76] - Loss: 0.834 - Acc:0.552\n",
            "Epoch / Batch [52 / 95] - Loss: 0.945 - Acc:0.552\n",
            "Epoch / Batch [52 / 114] - Loss: 0.902 - Acc:0.552\n",
            "Epoch / Batch [52 / 133] - Loss: 0.943 - Acc:0.553\n",
            "Epoch / Batch [52 / 152] - Loss: 0.874 - Acc:0.553\n",
            "Epoch / Batch [52 / 171] - Loss: 0.982 - Acc:0.553\n",
            "Epoch / Batch [52 / 190] - Loss: 0.927 - Acc:0.553\n",
            "- val_loss:1.172 - val_Acc:0.533\n",
            "Epoch / Batch [53 / 19] - Loss: 0.866 - Acc:0.554\n",
            "Epoch / Batch [53 / 38] - Loss: 0.841 - Acc:0.554\n",
            "Epoch / Batch [53 / 57] - Loss: 0.904 - Acc:0.554\n",
            "Epoch / Batch [53 / 76] - Loss: 0.926 - Acc:0.554\n",
            "Epoch / Batch [53 / 95] - Loss: 0.883 - Acc:0.555\n",
            "Epoch / Batch [53 / 114] - Loss: 0.911 - Acc:0.555\n",
            "Epoch / Batch [53 / 133] - Loss: 0.932 - Acc:0.555\n",
            "Epoch / Batch [53 / 152] - Loss: 0.867 - Acc:0.556\n",
            "Epoch / Batch [53 / 171] - Loss: 0.915 - Acc:0.556\n",
            "Epoch / Batch [53 / 190] - Loss: 0.867 - Acc:0.556\n",
            "- val_loss:1.077 - val_Acc:0.535\n",
            "Epoch / Batch [54 / 19] - Loss: 0.859 - Acc:0.556\n",
            "Epoch / Batch [54 / 38] - Loss: 0.792 - Acc:0.557\n",
            "Epoch / Batch [54 / 57] - Loss: 0.911 - Acc:0.557\n",
            "Epoch / Batch [54 / 76] - Loss: 0.940 - Acc:0.557\n",
            "Epoch / Batch [54 / 95] - Loss: 0.855 - Acc:0.557\n",
            "Epoch / Batch [54 / 114] - Loss: 1.014 - Acc:0.558\n",
            "Epoch / Batch [54 / 133] - Loss: 0.803 - Acc:0.558\n",
            "Epoch / Batch [54 / 152] - Loss: 0.883 - Acc:0.558\n",
            "Epoch / Batch [54 / 171] - Loss: 0.963 - Acc:0.558\n",
            "Epoch / Batch [54 / 190] - Loss: 0.982 - Acc:0.558\n",
            "- val_loss:1.062 - val_Acc:0.537\n",
            "Epoch / Batch [55 / 19] - Loss: 0.817 - Acc:0.559\n",
            "Epoch / Batch [55 / 38] - Loss: 0.857 - Acc:0.559\n",
            "Epoch / Batch [55 / 57] - Loss: 0.891 - Acc:0.559\n",
            "Epoch / Batch [55 / 76] - Loss: 0.878 - Acc:0.560\n",
            "Epoch / Batch [55 / 95] - Loss: 0.882 - Acc:0.560\n",
            "Epoch / Batch [55 / 114] - Loss: 0.872 - Acc:0.560\n",
            "Epoch / Batch [55 / 133] - Loss: 0.899 - Acc:0.560\n",
            "Epoch / Batch [55 / 152] - Loss: 0.800 - Acc:0.561\n",
            "Epoch / Batch [55 / 171] - Loss: 0.907 - Acc:0.561\n",
            "Epoch / Batch [55 / 190] - Loss: 1.025 - Acc:0.561\n",
            "- val_loss:1.076 - val_Acc:0.539\n",
            "Epoch / Batch [56 / 19] - Loss: 0.815 - Acc:0.561\n",
            "Epoch / Batch [56 / 38] - Loss: 0.945 - Acc:0.562\n",
            "Epoch / Batch [56 / 57] - Loss: 0.847 - Acc:0.562\n",
            "Epoch / Batch [56 / 76] - Loss: 0.838 - Acc:0.562\n",
            "Epoch / Batch [56 / 95] - Loss: 0.847 - Acc:0.562\n",
            "Epoch / Batch [56 / 114] - Loss: 0.843 - Acc:0.563\n",
            "Epoch / Batch [56 / 133] - Loss: 0.882 - Acc:0.563\n",
            "Epoch / Batch [56 / 152] - Loss: 0.818 - Acc:0.563\n",
            "Epoch / Batch [56 / 171] - Loss: 0.774 - Acc:0.563\n",
            "Epoch / Batch [56 / 190] - Loss: 1.032 - Acc:0.564\n",
            "- val_loss:1.126 - val_Acc:0.541\n",
            "Epoch / Batch [57 / 19] - Loss: 0.759 - Acc:0.564\n",
            "Epoch / Batch [57 / 38] - Loss: 0.802 - Acc:0.564\n",
            "Epoch / Batch [57 / 57] - Loss: 0.889 - Acc:0.564\n",
            "Epoch / Batch [57 / 76] - Loss: 0.888 - Acc:0.565\n",
            "Epoch / Batch [57 / 95] - Loss: 0.902 - Acc:0.565\n",
            "Epoch / Batch [57 / 114] - Loss: 0.919 - Acc:0.565\n",
            "Epoch / Batch [57 / 133] - Loss: 0.902 - Acc:0.565\n",
            "Epoch / Batch [57 / 152] - Loss: 0.901 - Acc:0.566\n",
            "Epoch / Batch [57 / 171] - Loss: 0.862 - Acc:0.566\n",
            "Epoch / Batch [57 / 190] - Loss: 0.886 - Acc:0.566\n",
            "- val_loss:1.079 - val_Acc:0.543\n",
            "Epoch / Batch [58 / 19] - Loss: 0.872 - Acc:0.566\n",
            "Epoch / Batch [58 / 38] - Loss: 0.767 - Acc:0.567\n",
            "Epoch / Batch [58 / 57] - Loss: 0.911 - Acc:0.567\n",
            "Epoch / Batch [58 / 76] - Loss: 0.768 - Acc:0.567\n",
            "Epoch / Batch [58 / 95] - Loss: 0.865 - Acc:0.567\n",
            "Epoch / Batch [58 / 114] - Loss: 0.829 - Acc:0.568\n",
            "Epoch / Batch [58 / 133] - Loss: 0.923 - Acc:0.568\n",
            "Epoch / Batch [58 / 152] - Loss: 0.887 - Acc:0.568\n",
            "Epoch / Batch [58 / 171] - Loss: 0.872 - Acc:0.568\n",
            "Epoch / Batch [58 / 190] - Loss: 0.789 - Acc:0.568\n",
            "- val_loss:1.110 - val_Acc:0.544\n",
            "Epoch / Batch [59 / 19] - Loss: 0.766 - Acc:0.569\n",
            "Epoch / Batch [59 / 38] - Loss: 0.896 - Acc:0.569\n",
            "Epoch / Batch [59 / 57] - Loss: 0.809 - Acc:0.569\n",
            "Epoch / Batch [59 / 76] - Loss: 0.926 - Acc:0.569\n",
            "Epoch / Batch [59 / 95] - Loss: 0.950 - Acc:0.570\n",
            "Epoch / Batch [59 / 114] - Loss: 0.903 - Acc:0.570\n",
            "Epoch / Batch [59 / 133] - Loss: 0.859 - Acc:0.570\n",
            "Epoch / Batch [59 / 152] - Loss: 0.921 - Acc:0.570\n",
            "Epoch / Batch [59 / 171] - Loss: 0.871 - Acc:0.571\n",
            "Epoch / Batch [59 / 190] - Loss: 0.882 - Acc:0.571\n",
            "- val_loss:1.236 - val_Acc:0.546\n",
            "Epoch / Batch [60 / 19] - Loss: 0.817 - Acc:0.571\n",
            "Epoch / Batch [60 / 38] - Loss: 0.932 - Acc:0.571\n",
            "Epoch / Batch [60 / 57] - Loss: 0.920 - Acc:0.571\n",
            "Epoch / Batch [60 / 76] - Loss: 0.964 - Acc:0.572\n",
            "Epoch / Batch [60 / 95] - Loss: 0.877 - Acc:0.572\n",
            "Epoch / Batch [60 / 114] - Loss: 0.908 - Acc:0.572\n",
            "Epoch / Batch [60 / 133] - Loss: 0.873 - Acc:0.572\n",
            "Epoch / Batch [60 / 152] - Loss: 0.908 - Acc:0.573\n",
            "Epoch / Batch [60 / 171] - Loss: 0.913 - Acc:0.573\n",
            "Epoch / Batch [60 / 190] - Loss: 0.811 - Acc:0.573\n",
            "- val_loss:1.178 - val_Acc:0.547\n",
            "Epoch / Batch [61 / 19] - Loss: 0.755 - Acc:0.573\n",
            "Epoch / Batch [61 / 38] - Loss: 0.823 - Acc:0.573\n",
            "Epoch / Batch [61 / 57] - Loss: 0.856 - Acc:0.574\n",
            "Epoch / Batch [61 / 76] - Loss: 0.887 - Acc:0.574\n",
            "Epoch / Batch [61 / 95] - Loss: 0.919 - Acc:0.574\n",
            "Epoch / Batch [61 / 114] - Loss: 0.831 - Acc:0.574\n",
            "Epoch / Batch [61 / 133] - Loss: 0.923 - Acc:0.575\n",
            "Epoch / Batch [61 / 152] - Loss: 0.849 - Acc:0.575\n",
            "Epoch / Batch [61 / 171] - Loss: 0.851 - Acc:0.575\n",
            "Epoch / Batch [61 / 190] - Loss: 0.879 - Acc:0.575\n",
            "- val_loss:1.088 - val_Acc:0.549\n",
            "Epoch / Batch [62 / 19] - Loss: 0.840 - Acc:0.575\n",
            "Epoch / Batch [62 / 38] - Loss: 0.818 - Acc:0.576\n",
            "Epoch / Batch [62 / 57] - Loss: 0.865 - Acc:0.576\n",
            "Epoch / Batch [62 / 76] - Loss: 0.839 - Acc:0.576\n",
            "Epoch / Batch [62 / 95] - Loss: 0.850 - Acc:0.576\n",
            "Epoch / Batch [62 / 114] - Loss: 0.930 - Acc:0.576\n",
            "Epoch / Batch [62 / 133] - Loss: 0.798 - Acc:0.577\n",
            "Epoch / Batch [62 / 152] - Loss: 0.877 - Acc:0.577\n",
            "Epoch / Batch [62 / 171] - Loss: 0.920 - Acc:0.577\n",
            "Epoch / Batch [62 / 190] - Loss: 0.779 - Acc:0.577\n",
            "- val_loss:1.088 - val_Acc:0.550\n",
            "Epoch / Batch [63 / 19] - Loss: 0.973 - Acc:0.578\n",
            "Epoch / Batch [63 / 38] - Loss: 0.881 - Acc:0.578\n",
            "Epoch / Batch [63 / 57] - Loss: 0.921 - Acc:0.578\n",
            "Epoch / Batch [63 / 76] - Loss: 0.799 - Acc:0.578\n",
            "Epoch / Batch [63 / 95] - Loss: 0.792 - Acc:0.578\n",
            "Epoch / Batch [63 / 114] - Loss: 0.863 - Acc:0.579\n",
            "Epoch / Batch [63 / 133] - Loss: 0.928 - Acc:0.579\n",
            "Epoch / Batch [63 / 152] - Loss: 0.834 - Acc:0.579\n",
            "Epoch / Batch [63 / 171] - Loss: 0.904 - Acc:0.579\n",
            "Epoch / Batch [63 / 190] - Loss: 0.820 - Acc:0.579\n",
            "- val_loss:1.105 - val_Acc:0.552\n",
            "Epoch / Batch [64 / 19] - Loss: 0.855 - Acc:0.580\n",
            "Epoch / Batch [64 / 38] - Loss: 0.806 - Acc:0.580\n",
            "Epoch / Batch [64 / 57] - Loss: 0.716 - Acc:0.580\n",
            "Epoch / Batch [64 / 76] - Loss: 0.814 - Acc:0.580\n",
            "Epoch / Batch [64 / 95] - Loss: 0.891 - Acc:0.580\n",
            "Epoch / Batch [64 / 114] - Loss: 0.844 - Acc:0.581\n",
            "Epoch / Batch [64 / 133] - Loss: 0.905 - Acc:0.581\n",
            "Epoch / Batch [64 / 152] - Loss: 0.889 - Acc:0.581\n",
            "Epoch / Batch [64 / 171] - Loss: 0.908 - Acc:0.581\n",
            "Epoch / Batch [64 / 190] - Loss: 0.880 - Acc:0.581\n",
            "- val_loss:1.062 - val_Acc:0.553\n",
            "Epoch / Batch [65 / 19] - Loss: 0.826 - Acc:0.582\n",
            "Epoch / Batch [65 / 38] - Loss: 0.774 - Acc:0.582\n",
            "Epoch / Batch [65 / 57] - Loss: 0.836 - Acc:0.582\n",
            "Epoch / Batch [65 / 76] - Loss: 0.857 - Acc:0.582\n",
            "Epoch / Batch [65 / 95] - Loss: 0.868 - Acc:0.582\n",
            "Epoch / Batch [65 / 114] - Loss: 0.842 - Acc:0.583\n",
            "Epoch / Batch [65 / 133] - Loss: 0.780 - Acc:0.583\n",
            "Epoch / Batch [65 / 152] - Loss: 0.914 - Acc:0.583\n",
            "Epoch / Batch [65 / 171] - Loss: 0.954 - Acc:0.583\n",
            "Epoch / Batch [65 / 190] - Loss: 0.860 - Acc:0.583\n",
            "- val_loss:1.093 - val_Acc:0.555\n",
            "Epoch / Batch [66 / 19] - Loss: 0.893 - Acc:0.583\n",
            "Epoch / Batch [66 / 38] - Loss: 0.725 - Acc:0.584\n",
            "Epoch / Batch [66 / 57] - Loss: 0.862 - Acc:0.584\n",
            "Epoch / Batch [66 / 76] - Loss: 0.837 - Acc:0.584\n",
            "Epoch / Batch [66 / 95] - Loss: 0.853 - Acc:0.584\n",
            "Epoch / Batch [66 / 114] - Loss: 0.931 - Acc:0.584\n",
            "Epoch / Batch [66 / 133] - Loss: 0.789 - Acc:0.585\n",
            "Epoch / Batch [66 / 152] - Loss: 0.846 - Acc:0.585\n",
            "Epoch / Batch [66 / 171] - Loss: 0.858 - Acc:0.585\n",
            "Epoch / Batch [66 / 190] - Loss: 0.880 - Acc:0.585\n",
            "- val_loss:1.058 - val_Acc:0.556\n",
            "Epoch / Batch [67 / 19] - Loss: 0.847 - Acc:0.585\n",
            "Epoch / Batch [67 / 38] - Loss: 0.875 - Acc:0.586\n",
            "Epoch / Batch [67 / 57] - Loss: 0.876 - Acc:0.586\n",
            "Epoch / Batch [67 / 76] - Loss: 0.882 - Acc:0.586\n",
            "Epoch / Batch [67 / 95] - Loss: 0.851 - Acc:0.586\n",
            "Epoch / Batch [67 / 114] - Loss: 0.867 - Acc:0.586\n",
            "Epoch / Batch [67 / 133] - Loss: 0.852 - Acc:0.586\n",
            "Epoch / Batch [67 / 152] - Loss: 0.787 - Acc:0.587\n",
            "Epoch / Batch [67 / 171] - Loss: 0.834 - Acc:0.587\n",
            "Epoch / Batch [67 / 190] - Loss: 0.918 - Acc:0.587\n",
            "- val_loss:1.082 - val_Acc:0.557\n",
            "Epoch / Batch [68 / 19] - Loss: 0.814 - Acc:0.587\n",
            "Epoch / Batch [68 / 38] - Loss: 0.819 - Acc:0.588\n",
            "Epoch / Batch [68 / 57] - Loss: 0.873 - Acc:0.588\n",
            "Epoch / Batch [68 / 76] - Loss: 0.854 - Acc:0.588\n",
            "Epoch / Batch [68 / 95] - Loss: 0.838 - Acc:0.588\n",
            "Epoch / Batch [68 / 114] - Loss: 0.858 - Acc:0.588\n",
            "Epoch / Batch [68 / 133] - Loss: 0.866 - Acc:0.588\n",
            "Epoch / Batch [68 / 152] - Loss: 0.879 - Acc:0.588\n",
            "Epoch / Batch [68 / 171] - Loss: 0.792 - Acc:0.589\n",
            "Epoch / Batch [68 / 190] - Loss: 0.854 - Acc:0.589\n",
            "- val_loss:1.129 - val_Acc:0.558\n",
            "Epoch / Batch [69 / 19] - Loss: 0.894 - Acc:0.589\n",
            "Epoch / Batch [69 / 38] - Loss: 0.740 - Acc:0.589\n",
            "Epoch / Batch [69 / 57] - Loss: 0.922 - Acc:0.589\n",
            "Epoch / Batch [69 / 76] - Loss: 0.822 - Acc:0.590\n",
            "Epoch / Batch [69 / 95] - Loss: 0.813 - Acc:0.590\n",
            "Epoch / Batch [69 / 114] - Loss: 0.807 - Acc:0.590\n",
            "Epoch / Batch [69 / 133] - Loss: 0.758 - Acc:0.590\n",
            "Epoch / Batch [69 / 152] - Loss: 0.883 - Acc:0.590\n",
            "Epoch / Batch [69 / 171] - Loss: 0.844 - Acc:0.591\n",
            "Epoch / Batch [69 / 190] - Loss: 0.802 - Acc:0.591\n",
            "- val_loss:1.192 - val_Acc:0.559\n",
            "Epoch / Batch [70 / 19] - Loss: 0.777 - Acc:0.591\n",
            "Epoch / Batch [70 / 38] - Loss: 0.782 - Acc:0.591\n",
            "Epoch / Batch [70 / 57] - Loss: 0.893 - Acc:0.591\n",
            "Epoch / Batch [70 / 76] - Loss: 0.842 - Acc:0.592\n",
            "Epoch / Batch [70 / 95] - Loss: 0.785 - Acc:0.592\n",
            "Epoch / Batch [70 / 114] - Loss: 0.824 - Acc:0.592\n",
            "Epoch / Batch [70 / 133] - Loss: 0.821 - Acc:0.592\n",
            "Epoch / Batch [70 / 152] - Loss: 0.833 - Acc:0.592\n",
            "Epoch / Batch [70 / 171] - Loss: 0.821 - Acc:0.592\n",
            "Epoch / Batch [70 / 190] - Loss: 0.862 - Acc:0.593\n",
            "- val_loss:1.044 - val_Acc:0.561\n",
            "Epoch / Batch [71 / 19] - Loss: 0.878 - Acc:0.593\n",
            "Epoch / Batch [71 / 38] - Loss: 0.801 - Acc:0.593\n",
            "Epoch / Batch [71 / 57] - Loss: 0.779 - Acc:0.593\n",
            "Epoch / Batch [71 / 76] - Loss: 0.794 - Acc:0.593\n",
            "Epoch / Batch [71 / 95] - Loss: 0.833 - Acc:0.594\n",
            "Epoch / Batch [71 / 114] - Loss: 0.811 - Acc:0.594\n",
            "Epoch / Batch [71 / 133] - Loss: 0.776 - Acc:0.594\n",
            "Epoch / Batch [71 / 152] - Loss: 0.783 - Acc:0.594\n",
            "Epoch / Batch [71 / 171] - Loss: 0.848 - Acc:0.594\n",
            "Epoch / Batch [71 / 190] - Loss: 0.820 - Acc:0.594\n",
            "- val_loss:1.090 - val_Acc:0.562\n",
            "Epoch / Batch [72 / 19] - Loss: 0.818 - Acc:0.595\n",
            "Epoch / Batch [72 / 38] - Loss: 0.813 - Acc:0.595\n",
            "Epoch / Batch [72 / 57] - Loss: 0.953 - Acc:0.595\n",
            "Epoch / Batch [72 / 76] - Loss: 0.824 - Acc:0.595\n",
            "Epoch / Batch [72 / 95] - Loss: 0.817 - Acc:0.595\n",
            "Epoch / Batch [72 / 114] - Loss: 0.845 - Acc:0.595\n",
            "Epoch / Batch [72 / 133] - Loss: 0.830 - Acc:0.596\n",
            "Epoch / Batch [72 / 152] - Loss: 0.881 - Acc:0.596\n",
            "Epoch / Batch [72 / 171] - Loss: 0.878 - Acc:0.596\n",
            "Epoch / Batch [72 / 190] - Loss: 0.888 - Acc:0.596\n",
            "- val_loss:1.102 - val_Acc:0.563\n",
            "Epoch / Batch [73 / 19] - Loss: 0.809 - Acc:0.596\n",
            "Epoch / Batch [73 / 38] - Loss: 0.689 - Acc:0.596\n",
            "Epoch / Batch [73 / 57] - Loss: 0.697 - Acc:0.597\n",
            "Epoch / Batch [73 / 76] - Loss: 0.871 - Acc:0.597\n",
            "Epoch / Batch [73 / 95] - Loss: 0.841 - Acc:0.597\n",
            "Epoch / Batch [73 / 114] - Loss: 0.804 - Acc:0.597\n",
            "Epoch / Batch [73 / 133] - Loss: 0.773 - Acc:0.597\n",
            "Epoch / Batch [73 / 152] - Loss: 0.842 - Acc:0.597\n",
            "Epoch / Batch [73 / 171] - Loss: 0.751 - Acc:0.598\n",
            "Epoch / Batch [73 / 190] - Loss: 0.877 - Acc:0.598\n",
            "- val_loss:1.123 - val_Acc:0.563\n",
            "Epoch / Batch [74 / 19] - Loss: 0.838 - Acc:0.598\n",
            "Epoch / Batch [74 / 38] - Loss: 0.769 - Acc:0.598\n",
            "Epoch / Batch [74 / 57] - Loss: 0.800 - Acc:0.598\n",
            "Epoch / Batch [74 / 76] - Loss: 0.838 - Acc:0.599\n",
            "Epoch / Batch [74 / 95] - Loss: 0.706 - Acc:0.599\n",
            "Epoch / Batch [74 / 114] - Loss: 0.871 - Acc:0.599\n",
            "Epoch / Batch [74 / 133] - Loss: 0.841 - Acc:0.599\n",
            "Epoch / Batch [74 / 152] - Loss: 0.748 - Acc:0.599\n",
            "Epoch / Batch [74 / 171] - Loss: 0.842 - Acc:0.599\n",
            "Epoch / Batch [74 / 190] - Loss: 0.812 - Acc:0.600\n",
            "- val_loss:1.119 - val_Acc:0.564\n",
            "Epoch / Batch [75 / 19] - Loss: 0.762 - Acc:0.600\n",
            "Epoch / Batch [75 / 38] - Loss: 0.798 - Acc:0.600\n",
            "Epoch / Batch [75 / 57] - Loss: 0.741 - Acc:0.600\n",
            "Epoch / Batch [75 / 76] - Loss: 0.742 - Acc:0.600\n",
            "Epoch / Batch [75 / 95] - Loss: 0.683 - Acc:0.600\n",
            "Epoch / Batch [75 / 114] - Loss: 0.883 - Acc:0.601\n",
            "Epoch / Batch [75 / 133] - Loss: 0.734 - Acc:0.601\n",
            "Epoch / Batch [75 / 152] - Loss: 0.804 - Acc:0.601\n",
            "Epoch / Batch [75 / 171] - Loss: 0.894 - Acc:0.601\n",
            "Epoch / Batch [75 / 190] - Loss: 0.831 - Acc:0.601\n",
            "- val_loss:1.079 - val_Acc:0.565\n",
            "Epoch / Batch [76 / 19] - Loss: 0.817 - Acc:0.601\n",
            "Epoch / Batch [76 / 38] - Loss: 0.786 - Acc:0.602\n",
            "Epoch / Batch [76 / 57] - Loss: 0.831 - Acc:0.602\n",
            "Epoch / Batch [76 / 76] - Loss: 0.738 - Acc:0.602\n",
            "Epoch / Batch [76 / 95] - Loss: 0.839 - Acc:0.602\n",
            "Epoch / Batch [76 / 114] - Loss: 0.863 - Acc:0.602\n",
            "Epoch / Batch [76 / 133] - Loss: 0.762 - Acc:0.602\n",
            "Epoch / Batch [76 / 152] - Loss: 0.896 - Acc:0.602\n",
            "Epoch / Batch [76 / 171] - Loss: 0.797 - Acc:0.603\n",
            "Epoch / Batch [76 / 190] - Loss: 0.762 - Acc:0.603\n",
            "- val_loss:1.031 - val_Acc:0.567\n",
            "Epoch / Batch [77 / 19] - Loss: 0.803 - Acc:0.603\n",
            "Epoch / Batch [77 / 38] - Loss: 0.770 - Acc:0.603\n",
            "Epoch / Batch [77 / 57] - Loss: 0.800 - Acc:0.603\n",
            "Epoch / Batch [77 / 76] - Loss: 0.808 - Acc:0.603\n",
            "Epoch / Batch [77 / 95] - Loss: 0.716 - Acc:0.604\n",
            "Epoch / Batch [77 / 114] - Loss: 0.818 - Acc:0.604\n",
            "Epoch / Batch [77 / 133] - Loss: 0.847 - Acc:0.604\n",
            "Epoch / Batch [77 / 152] - Loss: 0.712 - Acc:0.604\n",
            "Epoch / Batch [77 / 171] - Loss: 0.765 - Acc:0.604\n",
            "Epoch / Batch [77 / 190] - Loss: 0.818 - Acc:0.604\n",
            "- val_loss:1.214 - val_Acc:0.568\n",
            "Epoch / Batch [78 / 19] - Loss: 0.752 - Acc:0.605\n",
            "Epoch / Batch [78 / 38] - Loss: 0.788 - Acc:0.605\n",
            "Epoch / Batch [78 / 57] - Loss: 0.823 - Acc:0.605\n",
            "Epoch / Batch [78 / 76] - Loss: 0.764 - Acc:0.605\n",
            "Epoch / Batch [78 / 95] - Loss: 0.778 - Acc:0.605\n",
            "Epoch / Batch [78 / 114] - Loss: 0.756 - Acc:0.605\n",
            "Epoch / Batch [78 / 133] - Loss: 0.797 - Acc:0.606\n",
            "Epoch / Batch [78 / 152] - Loss: 0.923 - Acc:0.606\n",
            "Epoch / Batch [78 / 171] - Loss: 0.871 - Acc:0.606\n",
            "Epoch / Batch [78 / 190] - Loss: 0.781 - Acc:0.606\n",
            "- val_loss:1.087 - val_Acc:0.569\n",
            "Epoch / Batch [79 / 19] - Loss: 0.804 - Acc:0.606\n",
            "Epoch / Batch [79 / 38] - Loss: 0.638 - Acc:0.606\n",
            "Epoch / Batch [79 / 57] - Loss: 0.776 - Acc:0.606\n",
            "Epoch / Batch [79 / 76] - Loss: 0.783 - Acc:0.607\n",
            "Epoch / Batch [79 / 95] - Loss: 0.884 - Acc:0.607\n",
            "Epoch / Batch [79 / 114] - Loss: 0.842 - Acc:0.607\n",
            "Epoch / Batch [79 / 133] - Loss: 0.825 - Acc:0.607\n",
            "Epoch / Batch [79 / 152] - Loss: 0.858 - Acc:0.607\n",
            "Epoch / Batch [79 / 171] - Loss: 0.760 - Acc:0.607\n",
            "Epoch / Batch [79 / 190] - Loss: 0.839 - Acc:0.607\n",
            "- val_loss:1.071 - val_Acc:0.570\n",
            "Epoch / Batch [80 / 19] - Loss: 0.761 - Acc:0.608\n",
            "Epoch / Batch [80 / 38] - Loss: 0.809 - Acc:0.608\n",
            "Epoch / Batch [80 / 57] - Loss: 0.724 - Acc:0.608\n",
            "Epoch / Batch [80 / 76] - Loss: 0.769 - Acc:0.608\n",
            "Epoch / Batch [80 / 95] - Loss: 0.812 - Acc:0.608\n",
            "Epoch / Batch [80 / 114] - Loss: 0.919 - Acc:0.608\n",
            "Epoch / Batch [80 / 133] - Loss: 0.791 - Acc:0.608\n",
            "Epoch / Batch [80 / 152] - Loss: 0.775 - Acc:0.609\n",
            "Epoch / Batch [80 / 171] - Loss: 0.868 - Acc:0.609\n",
            "Epoch / Batch [80 / 190] - Loss: 0.763 - Acc:0.609\n",
            "- val_loss:1.118 - val_Acc:0.571\n",
            "Epoch / Batch [81 / 19] - Loss: 0.818 - Acc:0.609\n",
            "Epoch / Batch [81 / 38] - Loss: 0.833 - Acc:0.609\n",
            "Epoch / Batch [81 / 57] - Loss: 0.807 - Acc:0.609\n",
            "Epoch / Batch [81 / 76] - Loss: 0.731 - Acc:0.609\n",
            "Epoch / Batch [81 / 95] - Loss: 0.783 - Acc:0.610\n",
            "Epoch / Batch [81 / 114] - Loss: 0.806 - Acc:0.610\n",
            "Epoch / Batch [81 / 133] - Loss: 0.870 - Acc:0.610\n",
            "Epoch / Batch [81 / 152] - Loss: 0.861 - Acc:0.610\n",
            "Epoch / Batch [81 / 171] - Loss: 0.777 - Acc:0.610\n",
            "Epoch / Batch [81 / 190] - Loss: 0.756 - Acc:0.610\n",
            "- val_loss:1.119 - val_Acc:0.571\n",
            "Epoch / Batch [82 / 19] - Loss: 0.849 - Acc:0.610\n",
            "Epoch / Batch [82 / 38] - Loss: 0.709 - Acc:0.611\n",
            "Epoch / Batch [82 / 57] - Loss: 0.820 - Acc:0.611\n",
            "Epoch / Batch [82 / 76] - Loss: 0.827 - Acc:0.611\n",
            "Epoch / Batch [82 / 95] - Loss: 0.764 - Acc:0.611\n",
            "Epoch / Batch [82 / 114] - Loss: 0.718 - Acc:0.611\n",
            "Epoch / Batch [82 / 133] - Loss: 0.864 - Acc:0.611\n",
            "Epoch / Batch [82 / 152] - Loss: 0.745 - Acc:0.611\n",
            "Epoch / Batch [82 / 171] - Loss: 0.874 - Acc:0.612\n",
            "Epoch / Batch [82 / 190] - Loss: 0.827 - Acc:0.612\n",
            "- val_loss:1.136 - val_Acc:0.572\n",
            "Epoch / Batch [83 / 19] - Loss: 0.734 - Acc:0.612\n",
            "Epoch / Batch [83 / 38] - Loss: 0.801 - Acc:0.612\n",
            "Epoch / Batch [83 / 57] - Loss: 0.698 - Acc:0.612\n",
            "Epoch / Batch [83 / 76] - Loss: 0.758 - Acc:0.612\n",
            "Epoch / Batch [83 / 95] - Loss: 0.712 - Acc:0.613\n",
            "Epoch / Batch [83 / 114] - Loss: 0.812 - Acc:0.613\n",
            "Epoch / Batch [83 / 133] - Loss: 0.790 - Acc:0.613\n",
            "Epoch / Batch [83 / 152] - Loss: 0.761 - Acc:0.613\n",
            "Epoch / Batch [83 / 171] - Loss: 0.775 - Acc:0.613\n",
            "Epoch / Batch [83 / 190] - Loss: 0.836 - Acc:0.613\n",
            "- val_loss:1.082 - val_Acc:0.573\n",
            "Epoch / Batch [84 / 19] - Loss: 0.795 - Acc:0.613\n",
            "Epoch / Batch [84 / 38] - Loss: 0.841 - Acc:0.613\n",
            "Epoch / Batch [84 / 57] - Loss: 0.802 - Acc:0.614\n",
            "Epoch / Batch [84 / 76] - Loss: 0.829 - Acc:0.614\n",
            "Epoch / Batch [84 / 95] - Loss: 0.810 - Acc:0.614\n",
            "Epoch / Batch [84 / 114] - Loss: 0.818 - Acc:0.614\n",
            "Epoch / Batch [84 / 133] - Loss: 0.704 - Acc:0.614\n",
            "Epoch / Batch [84 / 152] - Loss: 0.758 - Acc:0.614\n",
            "Epoch / Batch [84 / 171] - Loss: 0.744 - Acc:0.614\n",
            "Epoch / Batch [84 / 190] - Loss: 0.804 - Acc:0.615\n",
            "- val_loss:1.043 - val_Acc:0.574\n",
            "Epoch / Batch [85 / 19] - Loss: 0.752 - Acc:0.615\n",
            "Epoch / Batch [85 / 38] - Loss: 0.753 - Acc:0.615\n",
            "Epoch / Batch [85 / 57] - Loss: 0.799 - Acc:0.615\n",
            "Epoch / Batch [85 / 76] - Loss: 0.747 - Acc:0.615\n",
            "Epoch / Batch [85 / 95] - Loss: 0.755 - Acc:0.615\n",
            "Epoch / Batch [85 / 114] - Loss: 0.723 - Acc:0.615\n",
            "Epoch / Batch [85 / 133] - Loss: 0.796 - Acc:0.616\n",
            "Epoch / Batch [85 / 152] - Loss: 0.889 - Acc:0.616\n",
            "Epoch / Batch [85 / 171] - Loss: 0.942 - Acc:0.616\n",
            "Epoch / Batch [85 / 190] - Loss: 0.823 - Acc:0.616\n",
            "- val_loss:1.107 - val_Acc:0.575\n",
            "Epoch / Batch [86 / 19] - Loss: 0.679 - Acc:0.616\n",
            "Epoch / Batch [86 / 38] - Loss: 0.693 - Acc:0.616\n",
            "Epoch / Batch [86 / 57] - Loss: 0.833 - Acc:0.616\n",
            "Epoch / Batch [86 / 76] - Loss: 0.915 - Acc:0.616\n",
            "Epoch / Batch [86 / 95] - Loss: 0.811 - Acc:0.617\n",
            "Epoch / Batch [86 / 114] - Loss: 0.760 - Acc:0.617\n",
            "Epoch / Batch [86 / 133] - Loss: 0.781 - Acc:0.617\n",
            "Epoch / Batch [86 / 152] - Loss: 0.905 - Acc:0.617\n",
            "Epoch / Batch [86 / 171] - Loss: 0.836 - Acc:0.617\n",
            "Epoch / Batch [86 / 190] - Loss: 0.714 - Acc:0.617\n",
            "- val_loss:1.091 - val_Acc:0.576\n",
            "Epoch / Batch [87 / 19] - Loss: 0.686 - Acc:0.617\n",
            "Epoch / Batch [87 / 38] - Loss: 0.773 - Acc:0.618\n",
            "Epoch / Batch [87 / 57] - Loss: 0.717 - Acc:0.618\n",
            "Epoch / Batch [87 / 76] - Loss: 0.789 - Acc:0.618\n",
            "Epoch / Batch [87 / 95] - Loss: 0.728 - Acc:0.618\n",
            "Epoch / Batch [87 / 114] - Loss: 0.725 - Acc:0.618\n",
            "Epoch / Batch [87 / 133] - Loss: 0.801 - Acc:0.618\n",
            "Epoch / Batch [87 / 152] - Loss: 0.824 - Acc:0.618\n",
            "Epoch / Batch [87 / 171] - Loss: 0.699 - Acc:0.619\n",
            "Epoch / Batch [87 / 190] - Loss: 0.770 - Acc:0.619\n",
            "- val_loss:1.134 - val_Acc:0.577\n",
            "Epoch / Batch [88 / 19] - Loss: 0.868 - Acc:0.619\n",
            "Epoch / Batch [88 / 38] - Loss: 0.749 - Acc:0.619\n",
            "Epoch / Batch [88 / 57] - Loss: 0.751 - Acc:0.619\n",
            "Epoch / Batch [88 / 76] - Loss: 0.789 - Acc:0.619\n",
            "Epoch / Batch [88 / 95] - Loss: 0.825 - Acc:0.619\n",
            "Epoch / Batch [88 / 114] - Loss: 0.868 - Acc:0.619\n",
            "Epoch / Batch [88 / 133] - Loss: 0.733 - Acc:0.620\n",
            "Epoch / Batch [88 / 152] - Loss: 0.741 - Acc:0.620\n",
            "Epoch / Batch [88 / 171] - Loss: 0.748 - Acc:0.620\n",
            "Epoch / Batch [88 / 190] - Loss: 0.869 - Acc:0.620\n",
            "- val_loss:1.078 - val_Acc:0.578\n",
            "Epoch / Batch [89 / 19] - Loss: 0.706 - Acc:0.620\n",
            "Epoch / Batch [89 / 38] - Loss: 0.754 - Acc:0.620\n",
            "Epoch / Batch [89 / 57] - Loss: 0.714 - Acc:0.620\n",
            "Epoch / Batch [89 / 76] - Loss: 0.691 - Acc:0.621\n",
            "Epoch / Batch [89 / 95] - Loss: 0.842 - Acc:0.621\n",
            "Epoch / Batch [89 / 114] - Loss: 0.823 - Acc:0.621\n",
            "Epoch / Batch [89 / 133] - Loss: 0.844 - Acc:0.621\n",
            "Epoch / Batch [89 / 152] - Loss: 0.804 - Acc:0.621\n",
            "Epoch / Batch [89 / 171] - Loss: 0.759 - Acc:0.621\n",
            "Epoch / Batch [89 / 190] - Loss: 0.801 - Acc:0.621\n",
            "- val_loss:1.068 - val_Acc:0.578\n",
            "Epoch / Batch [90 / 19] - Loss: 0.788 - Acc:0.621\n",
            "Epoch / Batch [90 / 38] - Loss: 0.706 - Acc:0.622\n",
            "Epoch / Batch [90 / 57] - Loss: 0.785 - Acc:0.622\n",
            "Epoch / Batch [90 / 76] - Loss: 0.727 - Acc:0.622\n",
            "Epoch / Batch [90 / 95] - Loss: 0.744 - Acc:0.622\n",
            "Epoch / Batch [90 / 114] - Loss: 0.764 - Acc:0.622\n",
            "Epoch / Batch [90 / 133] - Loss: 0.801 - Acc:0.622\n",
            "Epoch / Batch [90 / 152] - Loss: 0.805 - Acc:0.622\n",
            "Epoch / Batch [90 / 171] - Loss: 0.714 - Acc:0.622\n",
            "Epoch / Batch [90 / 190] - Loss: 0.787 - Acc:0.623\n",
            "- val_loss:1.025 - val_Acc:0.579\n",
            "Epoch / Batch [91 / 19] - Loss: 0.714 - Acc:0.623\n",
            "Epoch / Batch [91 / 38] - Loss: 0.725 - Acc:0.623\n",
            "Epoch / Batch [91 / 57] - Loss: 0.798 - Acc:0.623\n",
            "Epoch / Batch [91 / 76] - Loss: 0.699 - Acc:0.623\n",
            "Epoch / Batch [91 / 95] - Loss: 0.748 - Acc:0.623\n",
            "Epoch / Batch [91 / 114] - Loss: 0.754 - Acc:0.623\n",
            "Epoch / Batch [91 / 133] - Loss: 0.719 - Acc:0.624\n",
            "Epoch / Batch [91 / 152] - Loss: 0.757 - Acc:0.624\n",
            "Epoch / Batch [91 / 171] - Loss: 0.842 - Acc:0.624\n",
            "Epoch / Batch [91 / 190] - Loss: 0.765 - Acc:0.624\n",
            "- val_loss:1.064 - val_Acc:0.580\n",
            "Epoch / Batch [92 / 19] - Loss: 0.745 - Acc:0.624\n",
            "Epoch / Batch [92 / 38] - Loss: 0.774 - Acc:0.624\n",
            "Epoch / Batch [92 / 57] - Loss: 0.696 - Acc:0.624\n",
            "Epoch / Batch [92 / 76] - Loss: 0.743 - Acc:0.624\n",
            "Epoch / Batch [92 / 95] - Loss: 0.761 - Acc:0.625\n",
            "Epoch / Batch [92 / 114] - Loss: 0.739 - Acc:0.625\n",
            "Epoch / Batch [92 / 133] - Loss: 0.790 - Acc:0.625\n",
            "Epoch / Batch [92 / 152] - Loss: 0.801 - Acc:0.625\n",
            "Epoch / Batch [92 / 171] - Loss: 0.738 - Acc:0.625\n",
            "Epoch / Batch [92 / 190] - Loss: 0.766 - Acc:0.625\n",
            "- val_loss:1.103 - val_Acc:0.581\n",
            "Epoch / Batch [93 / 19] - Loss: 0.770 - Acc:0.625\n",
            "Epoch / Batch [93 / 38] - Loss: 0.822 - Acc:0.626\n",
            "Epoch / Batch [93 / 57] - Loss: 0.726 - Acc:0.626\n",
            "Epoch / Batch [93 / 76] - Loss: 0.746 - Acc:0.626\n",
            "Epoch / Batch [93 / 95] - Loss: 0.799 - Acc:0.626\n",
            "Epoch / Batch [93 / 114] - Loss: 0.820 - Acc:0.626\n",
            "Epoch / Batch [93 / 133] - Loss: 0.750 - Acc:0.626\n",
            "Epoch / Batch [93 / 152] - Loss: 0.751 - Acc:0.626\n",
            "Epoch / Batch [93 / 171] - Loss: 0.779 - Acc:0.626\n",
            "Epoch / Batch [93 / 190] - Loss: 0.775 - Acc:0.626\n",
            "- val_loss:1.091 - val_Acc:0.582\n",
            "Epoch / Batch [94 / 19] - Loss: 0.726 - Acc:0.627\n",
            "Epoch / Batch [94 / 38] - Loss: 0.745 - Acc:0.627\n",
            "Epoch / Batch [94 / 57] - Loss: 0.833 - Acc:0.627\n",
            "Epoch / Batch [94 / 76] - Loss: 0.768 - Acc:0.627\n",
            "Epoch / Batch [94 / 95] - Loss: 0.748 - Acc:0.627\n",
            "Epoch / Batch [94 / 114] - Loss: 0.789 - Acc:0.627\n",
            "Epoch / Batch [94 / 133] - Loss: 0.795 - Acc:0.627\n",
            "Epoch / Batch [94 / 152] - Loss: 0.745 - Acc:0.627\n",
            "Epoch / Batch [94 / 171] - Loss: 0.816 - Acc:0.627\n",
            "Epoch / Batch [94 / 190] - Loss: 0.768 - Acc:0.628\n",
            "- val_loss:1.075 - val_Acc:0.583\n",
            "Epoch / Batch [95 / 19] - Loss: 0.772 - Acc:0.628\n",
            "Epoch / Batch [95 / 38] - Loss: 0.647 - Acc:0.628\n",
            "Epoch / Batch [95 / 57] - Loss: 0.770 - Acc:0.628\n",
            "Epoch / Batch [95 / 76] - Loss: 0.736 - Acc:0.628\n",
            "Epoch / Batch [95 / 95] - Loss: 0.815 - Acc:0.628\n",
            "Epoch / Batch [95 / 114] - Loss: 0.707 - Acc:0.628\n",
            "Epoch / Batch [95 / 133] - Loss: 0.815 - Acc:0.629\n",
            "Epoch / Batch [95 / 152] - Loss: 0.727 - Acc:0.629\n",
            "Epoch / Batch [95 / 171] - Loss: 0.735 - Acc:0.629\n",
            "Epoch / Batch [95 / 190] - Loss: 0.736 - Acc:0.629\n",
            "- val_loss:1.089 - val_Acc:0.583\n",
            "Epoch / Batch [96 / 19] - Loss: 0.797 - Acc:0.629\n",
            "Epoch / Batch [96 / 38] - Loss: 0.802 - Acc:0.629\n",
            "Epoch / Batch [96 / 57] - Loss: 0.717 - Acc:0.629\n",
            "Epoch / Batch [96 / 76] - Loss: 0.779 - Acc:0.629\n",
            "Epoch / Batch [96 / 95] - Loss: 0.706 - Acc:0.629\n",
            "Epoch / Batch [96 / 114] - Loss: 0.785 - Acc:0.630\n",
            "Epoch / Batch [96 / 133] - Loss: 0.740 - Acc:0.630\n",
            "Epoch / Batch [96 / 152] - Loss: 0.714 - Acc:0.630\n",
            "Epoch / Batch [96 / 171] - Loss: 0.724 - Acc:0.630\n",
            "Epoch / Batch [96 / 190] - Loss: 0.727 - Acc:0.630\n",
            "- val_loss:1.119 - val_Acc:0.584\n",
            "Epoch / Batch [97 / 19] - Loss: 0.704 - Acc:0.630\n",
            "Epoch / Batch [97 / 38] - Loss: 0.701 - Acc:0.630\n",
            "Epoch / Batch [97 / 57] - Loss: 0.722 - Acc:0.630\n",
            "Epoch / Batch [97 / 76] - Loss: 0.841 - Acc:0.631\n",
            "Epoch / Batch [97 / 95] - Loss: 0.728 - Acc:0.631\n",
            "Epoch / Batch [97 / 114] - Loss: 0.727 - Acc:0.631\n",
            "Epoch / Batch [97 / 133] - Loss: 0.776 - Acc:0.631\n",
            "Epoch / Batch [97 / 152] - Loss: 0.744 - Acc:0.631\n",
            "Epoch / Batch [97 / 171] - Loss: 0.754 - Acc:0.631\n",
            "Epoch / Batch [97 / 190] - Loss: 0.755 - Acc:0.631\n",
            "- val_loss:1.098 - val_Acc:0.585\n",
            "Epoch / Batch [98 / 19] - Loss: 0.698 - Acc:0.631\n",
            "Epoch / Batch [98 / 38] - Loss: 0.715 - Acc:0.631\n",
            "Epoch / Batch [98 / 57] - Loss: 0.839 - Acc:0.632\n",
            "Epoch / Batch [98 / 76] - Loss: 0.788 - Acc:0.632\n",
            "Epoch / Batch [98 / 95] - Loss: 0.785 - Acc:0.632\n",
            "Epoch / Batch [98 / 114] - Loss: 0.765 - Acc:0.632\n",
            "Epoch / Batch [98 / 133] - Loss: 0.803 - Acc:0.632\n",
            "Epoch / Batch [98 / 152] - Loss: 0.749 - Acc:0.632\n",
            "Epoch / Batch [98 / 171] - Loss: 0.782 - Acc:0.632\n",
            "Epoch / Batch [98 / 190] - Loss: 0.724 - Acc:0.632\n",
            "- val_loss:1.144 - val_Acc:0.585\n",
            "Epoch / Batch [99 / 19] - Loss: 0.730 - Acc:0.632\n",
            "Epoch / Batch [99 / 38] - Loss: 0.746 - Acc:0.633\n",
            "Epoch / Batch [99 / 57] - Loss: 0.785 - Acc:0.633\n",
            "Epoch / Batch [99 / 76] - Loss: 0.749 - Acc:0.633\n",
            "Epoch / Batch [99 / 95] - Loss: 0.811 - Acc:0.633\n",
            "Epoch / Batch [99 / 114] - Loss: 0.782 - Acc:0.633\n",
            "Epoch / Batch [99 / 133] - Loss: 0.862 - Acc:0.633\n",
            "Epoch / Batch [99 / 152] - Loss: 0.739 - Acc:0.633\n",
            "Epoch / Batch [99 / 171] - Loss: 0.814 - Acc:0.633\n",
            "Epoch / Batch [99 / 190] - Loss: 0.837 - Acc:0.633\n",
            "- val_loss:1.064 - val_Acc:0.586\n",
            "Epoch / Batch [100 / 19] - Loss: 0.711 - Acc:0.633\n",
            "Epoch / Batch [100 / 38] - Loss: 0.763 - Acc:0.634\n",
            "Epoch / Batch [100 / 57] - Loss: 0.711 - Acc:0.634\n",
            "Epoch / Batch [100 / 76] - Loss: 0.799 - Acc:0.634\n",
            "Epoch / Batch [100 / 95] - Loss: 0.714 - Acc:0.634\n",
            "Epoch / Batch [100 / 114] - Loss: 0.754 - Acc:0.634\n",
            "Epoch / Batch [100 / 133] - Loss: 0.718 - Acc:0.634\n",
            "Epoch / Batch [100 / 152] - Loss: 0.801 - Acc:0.634\n",
            "Epoch / Batch [100 / 171] - Loss: 0.781 - Acc:0.634\n",
            "Epoch / Batch [100 / 190] - Loss: 0.821 - Acc:0.634\n",
            "- val_loss:1.102 - val_Acc:0.587\n"
          ],
          "name": "stdout"
        }
      ]
    },
    {
      "cell_type": "markdown",
      "metadata": {
        "id": "w9N-TvcT2Udi",
        "colab_type": "text"
      },
      "source": [
        "###Visualise the filter after training"
      ]
    },
    {
      "cell_type": "code",
      "metadata": {
        "id": "A0uuxYO72yGk",
        "colab_type": "code",
        "outputId": "b6277738-76cc-43d7-ddd9-428c774d246c",
        "colab": {
          "base_uri": "https://localhost:8080/",
          "height": 265
        }
      },
      "source": [
        "def visualise_filter_R_after(conv):\n",
        "  filter = conv.weight.data.cpu().numpy()\n",
        "  out_channels = filter.shape[0]\n",
        "  rows = np.min(get_grid_dim(out_channels))\n",
        "  columns = np.max(get_grid_dim(out_channels))\n",
        "  length = filter.shape[1]\n",
        "  width = filter.shape[2]\n",
        "  channels  = filter.shape[3]\n",
        "\n",
        "  for i in range(1, out_channels + 1):\n",
        "    plt.subplot(rows, columns, i)\n",
        "    filter_im = np.zeros((length, width, channels))\n",
        "    filter[i-1] = (filter[i-1] - np.mean(filter[i-1])) / np.std(filter[i-1])\n",
        "    filter[i-1] = np.minimum(1, np.maximum(0, (filter[i-1] + 0.5)))\n",
        "    filter[i-1] = filter[i-1].transpose(1, 2, 0)\n",
        "\n",
        "    filter_im = filter[i-1]\n",
        "    plt.imshow(filter_im[:,:,0], cmap='gray')\n",
        "\n",
        "visualise_filter_R_after(model_gpu.conv1)"
      ],
      "execution_count": 0,
      "outputs": [
        {
          "output_type": "display_data",
          "data": {
            "image/png": "[encoded data removed]",
            "text/plain": [
              "<Figure size 432x288 with 16 Axes>"
            ]
          },
          "metadata": {
            "tags": []
          }
        }
      ]
    },
    {
      "cell_type": "code",
      "metadata": {
        "id": "b1fJQJnr23m5",
        "colab_type": "code",
        "outputId": "c913f424-e1a0-4653-8e98-717ccd547f82",
        "colab": {
          "base_uri": "https://localhost:8080/",
          "height": 265
        }
      },
      "source": [
        "def visualise_filter_G_after(conv):\n",
        "  filter = conv.weight.data.cpu().numpy()\n",
        "  out_channels = filter.shape[0]\n",
        "  rows = np.min(get_grid_dim(out_channels))\n",
        "  columns = np.max(get_grid_dim(out_channels))\n",
        "  length = filter.shape[1]\n",
        "  width = filter.shape[2]\n",
        "  channels  = filter.shape[3]\n",
        "\n",
        "  for i in range(1, out_channels + 1):\n",
        "    plt.subplot(rows, columns, i)\n",
        "    filter_im = np.zeros((length, width, channels))\n",
        "    filter[i-1] = (filter[i-1] - np.mean(filter[i-1])) / np.std(filter[i-1])\n",
        "    filter[i-1] = np.minimum(1, np.maximum(0, (filter[i-1] + 0.5)))\n",
        "    filter[i-1] = filter[i-1].transpose(1, 2, 0)\n",
        "\n",
        "    filter_im = filter[i-1]\n",
        "    plt.imshow(filter_im[:,:,1], cmap='gray')\n",
        "\n",
        "visualise_filter_G_after(model_gpu.conv1)"
      ],
      "execution_count": 0,
      "outputs": [
        {
          "output_type": "display_data",
          "data": {
            "image/png": "[encoded data removed]",
            "text/plain": [
              "<Figure size 432x288 with 16 Axes>"
            ]
          },
          "metadata": {
            "tags": []
          }
        }
      ]
    },
    {
      "cell_type": "code",
      "metadata": {
        "id": "ZSu-mZVq3KZs",
        "colab_type": "code",
        "outputId": "8796f24b-4beb-400d-e006-a167cd3a2260",
        "colab": {
          "base_uri": "https://localhost:8080/",
          "height": 265
        }
      },
      "source": [
        "def visualise_filter_B_after(conv):\n",
        "  filter = conv.weight.data.cpu().numpy()\n",
        "  out_channels = filter.shape[0]\n",
        "  rows = np.min(get_grid_dim(out_channels))\n",
        "  columns = np.max(get_grid_dim(out_channels))\n",
        "  length = filter.shape[1]\n",
        "  width = filter.shape[2]\n",
        "  channels  = filter.shape[3]\n",
        "\n",
        "  for i in range(1, out_channels + 1):\n",
        "    plt.subplot(rows, columns, i)\n",
        "    filter_im = np.zeros((length, width, channels))\n",
        "    filter[i-1] = (filter[i-1] - np.mean(filter[i-1])) / np.std(filter[i-1])\n",
        "    filter[i-1] = np.minimum(1, np.maximum(0, (filter[i-1] + 0.5)))\n",
        "    filter[i-1] = filter[i-1].transpose(1, 2, 0)\n",
        "\n",
        "    filter_im = filter[i-1]\n",
        "    plt.imshow(filter_im[:,:,2], cmap='gray')\n",
        "\n",
        "visualise_filter_B_after(model_gpu.conv1)"
      ],
      "execution_count": 0,
      "outputs": [
        {
          "output_type": "display_data",
          "data": {
            "image/png": "[encoded data removed]",
            "text/plain": [
              "<Figure size 432x288 with 16 Axes>"
            ]
          },
          "metadata": {
            "tags": []
          }
        }
      ]
    },
    {
      "cell_type": "markdown",
      "metadata": {
        "id": "cye-0LJSM5t0",
        "colab_type": "text"
      },
      "source": [
        "###Training"
      ]
    },
    {
      "cell_type": "code",
      "metadata": {
        "id": "dbGuPE7vfY6q",
        "colab_type": "code",
        "colab": {}
      },
      "source": [
        "# gpu_train_time"
      ],
      "execution_count": 0,
      "outputs": []
    },
    {
      "cell_type": "code",
      "metadata": {
        "id": "GCy8YRrF2sGn",
        "colab_type": "code",
        "outputId": "772b7aad-2026-40ae-ed77-e01e714df60f",
        "colab": {
          "base_uri": "https://localhost:8080/",
          "height": 34
        }
      },
      "source": [
        "correct = 0\n",
        "total = 0\n",
        "labels_list = []\n",
        "predicted_list = []\n",
        "\n",
        "with torch.no_grad(): #https://blog.csdn.net/weixin_43178406/article/details/89517008\n",
        "    \n",
        "    # Iterate over the test set\n",
        "    for data in test_loader:\n",
        "        images, labels = data\n",
        "\n",
        "\n",
        "        # Explicitly specifies that data is to be copied onto the device!\n",
        "        images = images.to(device)  # <----------- And note it's NOT an in-place operation; original\n",
        "        labels = labels.to(device)  # <----------- variables still exist on CPU\n",
        "\n",
        "        outputs = model_gpu(images)\n",
        "        \n",
        "        # torch.max is an argmax operation\n",
        "        _, predicted = torch.max(outputs.data, 1) #tensor格式, dim = 1:取每一行的最大值\n",
        "        \n",
        "        labels_list += labels.tolist()\n",
        "        predicted_list += predicted.tolist()\n",
        "        \n",
        "        total += labels.size(0)\n",
        "        correct += (predicted == labels).sum().item()\n",
        "\n",
        "\n",
        "\n",
        "print('Accuracy of the network on the test images: %d %%' % (100 * correct / total))"
      ],
      "execution_count": 0,
      "outputs": [
        {
          "output_type": "stream",
          "text": [
            "Accuracy of the network on the test images: 64 %\n"
          ],
          "name": "stdout"
        }
      ]
    },
    {
      "cell_type": "code",
      "metadata": {
        "id": "yLztlWSTn6Jk",
        "colab_type": "code",
        "colab": {}
      },
      "source": [
        "# torch.save(model_gpu, '/content/sample_data/my_modle.pt') "
      ],
      "execution_count": 0,
      "outputs": []
    },
    {
      "cell_type": "markdown",
      "metadata": {
        "id": "TiurQqO836cF",
        "colab_type": "text"
      },
      "source": [
        "Visualise accuracy and loss for traininig set"
      ]
    },
    {
      "cell_type": "code",
      "metadata": {
        "id": "_q2ymZNSZTTz",
        "colab_type": "code",
        "outputId": "9e576253-4ffc-4c55-fe60-4b8d68389c1c",
        "colab": {
          "base_uri": "https://localhost:8080/",
          "height": 281
        }
      },
      "source": [
        "epochs = range(len(acc_list))\n",
        "nb_epochs = len(epochs)\n",
        "\n",
        "f2 = plt.figure(2)\n",
        "plt.subplot(1, 2, 1)\n",
        "plt.axis((0, nb_epochs, 0, 1.2))\n",
        "plt.plot(epochs, acc_list, 'bo', label='Training accuracy')\n",
        "plt.plot(epochs, acc_list_val, 'b', label='Validation accuracy')\n",
        "plt.title('Training and validation accuracy')\n",
        "plt.legend()\n",
        "plt.subplot(1, 2, 2)\n",
        "plt.axis((0, nb_epochs, 0, 3))\n",
        "plt.plot(epochs, loss_list, 'bo', label='Training loss')\n",
        "plt.plot(epochs, loss_list_val, 'b', label='Validation loss')\n",
        "plt.title('Training and validation loss')\n",
        "plt.legend()\n",
        "plt.draw()\n",
        "plt.pause(0.001)"
      ],
      "execution_count": 0,
      "outputs": [
        {
          "output_type": "display_data",
          "data": {
            "image/png": "[encoded data removed]",
            "text/plain": [
              "<Figure size 432x288 with 2 Axes>"
            ]
          },
          "metadata": {
            "tags": []
          }
        }
      ]
    },
    {
      "cell_type": "markdown",
      "metadata": {
        "id": "2GMdQKoe33Mr",
        "colab_type": "text"
      },
      "source": [
        "Confusion matirx"
      ]
    },
    {
      "cell_type": "code",
      "metadata": {
        "id": "T-HWi3qTQ1f2",
        "colab_type": "code",
        "colab": {}
      },
      "source": [
        "#https://forums.fast.ai/t/attributeerror-memoryview-object-has-no-attribute-cpu-and-runtimeerror-number-of-dims-dont-match-in-permute/24448\n",
        "cm = confusion_matrix(torch.as_tensor(labels_list),torch.as_tensor(predicted_list)) "
      ],
      "execution_count": 0,
      "outputs": []
    },
    {
      "cell_type": "code",
      "metadata": {
        "id": "26IBbM53Q2qB",
        "colab_type": "code",
        "outputId": "1d5d4ef3-7f34-4354-920d-f1363f25c1e2",
        "colab": {
          "base_uri": "https://localhost:8080/",
          "height": 187
        }
      },
      "source": [
        "cm"
      ],
      "execution_count": 0,
      "outputs": [
        {
          "output_type": "execute_result",
          "data": {
            "text/plain": [
              "array([[123,   7,  18,  21,   1,   0,   6,  17,   1,   0],\n",
              "       [  1, 144,   5,   0,   4,   1,   3,   0,  11,  10],\n",
              "       [  1,   7, 129,   2,   8,   3,   5,  13,   4,   1],\n",
              "       [  9,  10,   9, 126,   3,   3,   9,   3,   9,   0],\n",
              "       [  0,   5,   2,   1, 126,  11,  10,   4,  30,   0],\n",
              "       [  2,   8,   4,   0,  12,  92,  30,  12,  20,   0],\n",
              "       [  2,   9,   3,   1,  14,  19,  90,  10,  34,   1],\n",
              "       [  1,  12,  17,   7,   6,   9,  14,  97,  31,   2],\n",
              "       [  0,   7,   2,   3,   2,   7,  11,  12, 113,   0],\n",
              "       [  1,  27,   1,   0,   0,   4,   2,   5,   6, 122]])"
            ]
          },
          "metadata": {
            "tags": []
          },
          "execution_count": 354
        }
      ]
    },
    {
      "cell_type": "code",
      "metadata": {
        "id": "VlyC6U3UwGII",
        "colab_type": "code",
        "colab": {}
      },
      "source": [
        "import itertools\n",
        "\n",
        "def plot_confusion_matrix(cm,\n",
        "                          classes,\n",
        "                          normalize=False,\n",
        "                          title='Confusion matrix',\n",
        "                          cmap=plt.cm.Blues):\n",
        "    \"\"\"\n",
        "    This function prints and plots the confusion matrix very prettily.\n",
        "    Normalization can be applied by setting `normalize=True`.\n",
        "    \"\"\"\n",
        "    if normalize:\n",
        "        cm = cm.astype('float') / cm.sum(axis=1)[:, np.newaxis]\n",
        "        print(\"Normalized confusion matrix\")\n",
        "    else:\n",
        "        print('Confusion matrix, without normalization')\n",
        "\n",
        "    plt.imshow(cm, interpolation='nearest', cmap=cmap)\n",
        "    plt.title(title)\n",
        "\n",
        "    # Specify the tick marks and axis text\n",
        "    tick_marks = np.arange(len(classes))\n",
        "    plt.xticks(tick_marks, classes, rotation=90)\n",
        "    plt.yticks(tick_marks, classes)\n",
        "\n",
        "    # The data formatting\n",
        "    fmt = '.2f' if normalize else 'd'\n",
        "    thresh = cm.max() / 2.\n",
        "    \n",
        "    # Print the text of the matrix, adjusting text colour for display\n",
        "    for i, j in itertools.product(range(cm.shape[0]), range(cm.shape[1])):\n",
        "        plt.text(j, i, format(cm[i, j], fmt),\n",
        "                 horizontalalignment=\"center\",\n",
        "                 color=\"white\" if cm[i, j] > thresh else \"black\")\n",
        "\n",
        "    plt.ylabel('True label')\n",
        "    plt.xlabel('Predicted label')\n",
        "    plt.tight_layout()\n",
        "    plt.show()"
      ],
      "execution_count": 0,
      "outputs": []
    },
    {
      "cell_type": "code",
      "metadata": {
        "id": "rdOPrDpLwI_1",
        "colab_type": "code",
        "outputId": "4de7ec6e-c4fd-4be1-81ee-520ef69e9cc9",
        "colab": {
          "base_uri": "https://localhost:8080/",
          "height": 314
        }
      },
      "source": [
        "plot_confusion_matrix(cm, classes)"
      ],
      "execution_count": 0,
      "outputs": [
        {
          "output_type": "stream",
          "text": [
            "Confusion matrix, without normalization\n"
          ],
          "name": "stdout"
        },
        {
          "output_type": "display_data",
          "data": {
            "image/png": "[encoded data removed]",
            "text/plain": [
              "<Figure size 432x288 with 1 Axes>"
            ]
          },
          "metadata": {
            "tags": []
          }
        }
      ]
    },
    {
      "cell_type": "markdown",
      "metadata": {
        "id": "FY6xe7c0wLIg",
        "colab_type": "text"
      },
      "source": [
        "###Feature map visualisation"
      ]
    },
    {
      "cell_type": "code",
      "metadata": {
        "id": "q2tpqyx7lHpG",
        "colab_type": "code",
        "colab": {}
      },
      "source": [
        "img_loader = torch.utils.data.DataLoader(\n",
        "    dataset = ins_dataset_train,\n",
        "    batch_size = 1, #一次迭代所使用的样本量\n",
        "    shuffle = True,\n",
        "    num_workers = 2,\n",
        ")"
      ],
      "execution_count": 0,
      "outputs": []
    },
    {
      "cell_type": "code",
      "metadata": {
        "id": "w5Pw_j5tlmNU",
        "colab_type": "code",
        "colab": {}
      },
      "source": [
        "for i, data in enumerate(img_loader, 0):\n",
        "  images, labels = data\n",
        "\n",
        "  images = images.to(device)\n",
        "  labels = labels.to(device)\n",
        "\n",
        "  if i == 0:\n",
        "    img1 = images\n",
        "  elif i == 1:\n",
        "    img2 = images\n",
        "  else:\n",
        "    break"
      ],
      "execution_count": 0,
      "outputs": []
    },
    {
      "cell_type": "code",
      "metadata": {
        "id": "a9e_yNqmPNLm",
        "colab_type": "code",
        "colab": {}
      },
      "source": [
        "def layer_hook(self, input, output):\n",
        "  plt.figure(figsize=(10, 10))\n",
        "  for i in range(4):\n",
        "    plt.subplot(4, 4, i+1)\n",
        "    ft = output.data.clone().cpu()\n",
        "    plt.imshow(ft[0,i,:,:,], cmap = 'gray')\n",
        "    # print(ft[0,i:,:,].size())\n",
        "  plt.show()"
      ],
      "execution_count": 0,
      "outputs": []
    },
    {
      "cell_type": "code",
      "metadata": {
        "id": "rMAwx9MSquob",
        "colab_type": "code",
        "colab": {}
      },
      "source": [
        "handle = model_gpu.conv1.register_forward_hook(layer_hook)\n",
        "handle = model_gpu.conv2.register_forward_hook(layer_hook)\n",
        "handle = model_gpu.conv3.register_forward_hook(layer_hook)\n",
        "handle = model_gpu.conv4.register_forward_hook(layer_hook)\n",
        "# handle = model_gpu.conv5.register_forward_hook(layer_hook)"
      ],
      "execution_count": 0,
      "outputs": []
    },
    {
      "cell_type": "code",
      "metadata": {
        "id": "eP3wOTVWmciX",
        "colab_type": "code",
        "outputId": "73e351c5-47bd-428e-c687-2ba26aa91731",
        "colab": {
          "base_uri": "https://localhost:8080/",
          "height": 656
        }
      },
      "source": [
        "model_gpu(img1)"
      ],
      "execution_count": 0,
      "outputs": [
        {
          "output_type": "display_data",
          "data": {
            "image/png": "[encoded data removed]",
            "text/plain": [
              "<Figure size 720x720 with 4 Axes>"
            ]
          },
          "metadata": {
            "tags": []
          }
        },
        {
          "output_type": "display_data",
          "data": {
            "image/png": "[encoded data removed]",
            "text/plain": [
              "<Figure size 720x720 with 4 Axes>"
            ]
          },
          "metadata": {
            "tags": []
          }
        },
        {
          "output_type": "display_data",
          "data": {
            "image/png": "[encoded data removed]",
            "text/plain": [
              "<Figure size 720x720 with 4 Axes>"
            ]
          },
          "metadata": {
            "tags": []
          }
        },
        {
          "output_type": "display_data",
          "data": {
            "image/png": "[encoded data removed]",
            "text/plain": [
              "<Figure size 720x720 with 4 Axes>"
            ]
          },
          "metadata": {
            "tags": []
          }
        },
        {
          "output_type": "execute_result",
          "data": {
            "text/plain": [
              "tensor([[-0.0761,  0.0255, -0.0024,  0.0342, -0.0616,  0.0572, -0.0362,  0.1002,\n",
              "         -0.0472, -0.1118]], device='cuda:0', grad_fn=<AddmmBackward>)"
            ]
          },
          "metadata": {
            "tags": []
          },
          "execution_count": 449
        }
      ]
    },
    {
      "cell_type": "code",
      "metadata": {
        "id": "Q3_xR6lV2xk7",
        "colab_type": "code",
        "outputId": "d663272c-b5ad-4f77-d29d-241a9fe3d5a2",
        "colab": {
          "base_uri": "https://localhost:8080/",
          "height": 656
        }
      },
      "source": [
        "model_gpu(img2)"
      ],
      "execution_count": 0,
      "outputs": [
        {
          "output_type": "display_data",
          "data": {
            "image/png": "[encoded data removed]",
            "text/plain": [
              "<Figure size 720x720 with 4 Axes>"
            ]
          },
          "metadata": {
            "tags": []
          }
        },
        {
          "output_type": "display_data",
          "data": {
            "image/png": "[encoded data removed]",
            "text/plain": [
              "<Figure size 720x720 with 4 Axes>"
            ]
          },
          "metadata": {
            "tags": []
          }
        },
        {
          "output_type": "display_data",
          "data": {
            "image/png": "[encoded data removed]",
            "text/plain": [
              "<Figure size 720x720 with 4 Axes>"
            ]
          },
          "metadata": {
            "tags": []
          }
        },
        {
          "output_type": "display_data",
          "data": {
            "image/png": "[encoded data removed]",
            "text/plain": [
              "<Figure size 720x720 with 4 Axes>"
            ]
          },
          "metadata": {
            "tags": []
          }
        },
        {
          "output_type": "execute_result",
          "data": {
            "text/plain": [
              "tensor([[-0.1285,  0.0297,  0.0509,  0.0602, -0.0531,  0.0423, -0.0058,  0.0656,\n",
              "         -0.0452, -0.1257]], device='cuda:0', grad_fn=<AddmmBackward>)"
            ]
          },
          "metadata": {
            "tags": []
          },
          "execution_count": 450
        }
      ]
    },
    {
      "cell_type": "code",
      "metadata": {
        "id": "YjScQebmrzCE",
        "colab_type": "code",
        "colab": {}
      },
      "source": [
        ""
      ],
      "execution_count": 0,
      "outputs": []
    }
  ]
}